{
  "cells": [
    {
      "cell_type": "markdown",
      "metadata": {
        "id": "nz8Q6nBSaf7k"
      },
      "source": [
        "###### To solve a puzzle, you are given an initial state and a goal state.\n",
        "###### Target is to reach goal state from initial state using puzzle rules.\n",
        "######  We can move blank tile only on left, right, up, and down\n",
        "![Capture.JPG](attachment:Capture.JPG)"
      ]
    },
    {
      "cell_type": "markdown",
      "metadata": {
        "id": "SaqziTVFaf7s"
      },
      "source": [
        "# Generate an intial state of NPuzzle"
      ]
    },
    {
      "cell_type": "code",
      "source": [
        "import numpy as np\n",
        "import random\n",
        "import math"
      ],
      "metadata": {
        "id": "Sy3Dl1NXLEPc"
      },
      "execution_count": 1,
      "outputs": []
    },
    {
      "cell_type": "code",
      "execution_count": 158,
      "metadata": {
        "scrolled": true,
        "id": "iTX34gUNaf7t"
      },
      "outputs": [],
      "source": [
        "def get_state():\n",
        "    N = random.choice([3,4,5])\n",
        "    state = [item for item in range(N*N)]# [0,1,2,...,15]\n",
        "    random.shuffle(state)\n",
        "    tmp = np.array(state)\n",
        "    print(tmp.reshape(N,N))\n",
        "    return state"
      ]
    },
    {
      "cell_type": "code",
      "source": [
        "def get_dim(s):\n",
        "  return int(math.sqrt(len(s)))"
      ],
      "metadata": {
        "id": "UePds4atNrz_"
      },
      "execution_count": 15,
      "outputs": []
    },
    {
      "cell_type": "code",
      "execution_count": 133,
      "metadata": {
        "colab": {
          "base_uri": "https://localhost:8080/"
        },
        "id": "QKTU1E1Iaf7v",
        "outputId": "6cca781e-1f01-42ee-9041-c253208f23be"
      },
      "outputs": [
        {
          "output_type": "stream",
          "name": "stdout",
          "text": [
            "[[1 4 7]\n",
            " [3 6 8]\n",
            " [2 5 0]]\n",
            "[1, 4, 7, 3, 6, 8, 2, 5, 0]\n",
            "Dimension: 3\n"
          ]
        }
      ],
      "source": [
        "s = get_state()\n",
        "print(s)\n",
        "print('Dimension:', get_dim(s))"
      ]
    },
    {
      "cell_type": "markdown",
      "metadata": {
        "id": "3hD4ieUaaf7x"
      },
      "source": [
        "# Calculate inversion"
      ]
    },
    {
      "cell_type": "markdown",
      "metadata": {
        "id": "CkoMv0C8af7y"
      },
      "source": [
        "Inversion is a pair of tiles that are in the reverse order from where they ought to be. In our case, the bigger number is in front of the smaller one.\n",
        "\n"
      ]
    },
    {
      "cell_type": "markdown",
      "metadata": {
        "id": "JcfDN45Caf7y"
      },
      "source": [
        "![Capture.JPG](attachment:Capture.JPG)"
      ]
    },
    {
      "cell_type": "code",
      "execution_count": 5,
      "metadata": {
        "id": "-W9FOmneaf7z"
      },
      "outputs": [],
      "source": [
        "def get_invCount(s):\n",
        "    count = 0\n",
        "    for i in range(len(s)):\n",
        "        for j in range(i+1,len(s)):\n",
        "            if s[j]!=0 and s[i] > s[j]: count += 1\n",
        "    return count"
      ]
    },
    {
      "cell_type": "code",
      "execution_count": 178,
      "metadata": {
        "colab": {
          "base_uri": "https://localhost:8080/"
        },
        "id": "sWAiuZfjaf71",
        "outputId": "3cf6f3f6-74f8-4c4d-8152-f0ec7378c4f1"
      },
      "outputs": [
        {
          "output_type": "stream",
          "name": "stdout",
          "text": [
            "[[ 2 17  4  9  8]\n",
            " [ 3 24 18 10 15]\n",
            " [12 19  0 20  6]\n",
            " [14 22 21  7 16]\n",
            " [ 1 11  5 13 23]]\n",
            "[2, 17, 4, 9, 8, 3, 24, 18, 10, 15, 12, 19, 0, 20, 6, 14, 22, 21, 7, 16, 1, 11, 5, 13, 23]\n",
            "118\n"
          ]
        }
      ],
      "source": [
        "s = get_state()\n",
        "print(s)\n",
        "print(get_invCount(s))"
      ]
    },
    {
      "cell_type": "code",
      "source": [
        "s.index(0)"
      ],
      "metadata": {
        "colab": {
          "base_uri": "https://localhost:8080/"
        },
        "id": "znluowb7Jot_",
        "outputId": "de33fe49-bcf7-422d-a608-b3c31480274d"
      },
      "execution_count": 119,
      "outputs": [
        {
          "output_type": "execute_result",
          "data": {
            "text/plain": [
              "16"
            ]
          },
          "metadata": {},
          "execution_count": 119
        }
      ]
    },
    {
      "cell_type": "code",
      "source": [
        "get_invCount(s)"
      ],
      "metadata": {
        "colab": {
          "base_uri": "https://localhost:8080/"
        },
        "id": "DhV-_3wccFv2",
        "outputId": "cbb3125f-a888-4006-c4db-904c2b9b8899"
      },
      "execution_count": 139,
      "outputs": [
        {
          "output_type": "execute_result",
          "data": {
            "text/plain": [
              "19"
            ]
          },
          "metadata": {},
          "execution_count": 139
        }
      ]
    },
    {
      "cell_type": "markdown",
      "source": [
        "# **Find blank row**"
      ],
      "metadata": {
        "id": "EDn9_ODN1RFU"
      }
    },
    {
      "cell_type": "code",
      "execution_count": 106,
      "metadata": {
        "id": "R7-N-A6Oaf76"
      },
      "outputs": [],
      "source": [
        "# find row position of the blank tile\n",
        "def get_blank_row(s):\n",
        "  n = get_dim(s)\n",
        "  return n - math.floor(s.index(0) / n)"
      ]
    },
    {
      "cell_type": "code",
      "source": [
        "get_blank_row(s)"
      ],
      "metadata": {
        "colab": {
          "base_uri": "https://localhost:8080/"
        },
        "id": "o33j9NkBSnEj",
        "outputId": "2aecdee3-6fa3-451c-92a9-f786cbd47f85"
      },
      "execution_count": 179,
      "outputs": [
        {
          "output_type": "execute_result",
          "data": {
            "text/plain": [
              "3"
            ]
          },
          "metadata": {},
          "execution_count": 179
        }
      ]
    },
    {
      "cell_type": "markdown",
      "metadata": {
        "id": "8bTLG_ZQaf73"
      },
      "source": [
        "# Solvability Rules"
      ]
    },
    {
      "cell_type": "code",
      "execution_count": 127,
      "metadata": {
        "id": "0ciw2n-uaf77"
      },
      "outputs": [],
      "source": [
        "# apply the rules to decide solvability\n",
        "#  N, I, R\n",
        "# define a method to return solvability (input S)\n",
        "# return True if solvable or False if not\n",
        "\n",
        "def isSolvable(state):\n",
        "  D = get_dim(state)\n",
        "  I = get_invCount(state)\n",
        "  R = get_blank_row(state)\n",
        "\n",
        "  if (D%2==1 and I%2==0) or (D%2==0 and R%2==1 and I%2==0) or (D%2==0 and R%2==0 and I%2==1):\n",
        "    return True\n",
        "  else:\n",
        "    return False\n"
      ]
    },
    {
      "cell_type": "code",
      "source": [
        "#s = get_state()\n",
        "isSolvable(s)"
      ],
      "metadata": {
        "id": "u2TGpQfNhnP2",
        "colab": {
          "base_uri": "https://localhost:8080/"
        },
        "outputId": "cae585b4-f3d1-4c43-83fc-c505bb7a3e0a"
      },
      "execution_count": 167,
      "outputs": [
        {
          "output_type": "execute_result",
          "data": {
            "text/plain": [
              "True"
            ]
          },
          "metadata": {},
          "execution_count": 167
        }
      ]
    },
    {
      "cell_type": "code",
      "source": [
        "s = get_state()\n",
        "isSolvable(s)"
      ],
      "metadata": {
        "colab": {
          "base_uri": "https://localhost:8080/"
        },
        "id": "HtCW5Lcwcpw7",
        "outputId": "3b5ac217-1ffc-4057-8560-a2b8cc07e5dc"
      },
      "execution_count": 173,
      "outputs": [
        {
          "output_type": "stream",
          "name": "stdout",
          "text": [
            "[[ 2  4  7 11]\n",
            " [ 0 14  1 10]\n",
            " [ 9  5  8 15]\n",
            " [12 13  6  3]]\n"
          ]
        },
        {
          "output_type": "execute_result",
          "data": {
            "text/plain": [
              "True"
            ]
          },
          "metadata": {},
          "execution_count": 173
        }
      ]
    },
    {
      "cell_type": "code",
      "source": [
        "s = get_state()\n",
        "print()\n",
        "while(isSolvable(s)==False):\n",
        "  s = get_state()\n",
        "  print()\n",
        "print(\"Solvable problem: \", s)"
      ],
      "metadata": {
        "id": "tWVgVv0oTX2m",
        "colab": {
          "base_uri": "https://localhost:8080/"
        },
        "outputId": "a1e86b8f-b2f4-4db2-92a5-ca1da5a95cd3"
      },
      "execution_count": 174,
      "outputs": [
        {
          "output_type": "stream",
          "name": "stdout",
          "text": [
            "[[ 1 10  0 19 17]\n",
            " [24 21  8 16  6]\n",
            " [22  5 23 15  2]\n",
            " [ 9 18  3 14 11]\n",
            " [ 7 20 13  4 12]]\n",
            "\n",
            "[[1 3 7]\n",
            " [2 4 6]\n",
            " [5 0 8]]\n",
            "\n",
            "Solvable problem:  [1, 3, 7, 2, 4, 6, 5, 0, 8]\n"
          ]
        }
      ]
    }
  ],
  "metadata": {
    "kernelspec": {
      "display_name": "Python 3",
      "language": "python",
      "name": "python3"
    },
    "language_info": {
      "codemirror_mode": {
        "name": "ipython",
        "version": 3
      },
      "file_extension": ".py",
      "mimetype": "text/x-python",
      "name": "python",
      "nbconvert_exporter": "python",
      "pygments_lexer": "ipython3",
      "version": "3.8.5"
    },
    "colab": {
      "provenance": []
    }
  },
  "nbformat": 4,
  "nbformat_minor": 0
}