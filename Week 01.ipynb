{
  "cells": [
    {
      "cell_type": "markdown",
      "metadata": {
        "id": "iQlhsnAxRzmQ"
      },
      "source": [
        "# Number"
      ]
    },
    {
      "cell_type": "code",
      "execution_count": null,
      "metadata": {
        "id": "EgjVFy62RzmR",
        "outputId": "a1b08ee5-3462-4bdf-e09c-8bfdaf7d3745",
        "colab": {
          "base_uri": "https://localhost:8080/"
        }
      },
      "outputs": [
        {
          "output_type": "execute_result",
          "data": {
            "text/plain": [
              "-116.0"
            ]
          },
          "metadata": {},
          "execution_count": 48
        }
      ],
      "source": [
        "# basic numeric operations\n",
        "14 - 26 * 10 / 2"
      ]
    },
    {
      "cell_type": "code",
      "source": [
        "20 / 10 / 1.5"
      ],
      "metadata": {
        "id": "IY85fn2fmG_k",
        "colab": {
          "base_uri": "https://localhost:8080/"
        },
        "outputId": "b0164e60-b736-4b37-d753-e698f8ef826b"
      },
      "execution_count": null,
      "outputs": [
        {
          "output_type": "execute_result",
          "data": {
            "text/plain": [
              "1.3333333333333333"
            ]
          },
          "metadata": {},
          "execution_count": 57
        }
      ]
    },
    {
      "cell_type": "markdown",
      "source": [],
      "metadata": {
        "id": "VAarI6cfmJck"
      }
    },
    {
      "cell_type": "code",
      "execution_count": null,
      "metadata": {
        "id": "F0FimSxMRzmS",
        "outputId": "06ed1667-ebc9-44eb-a507-a143c83accf6",
        "colab": {
          "base_uri": "https://localhost:8080/"
        }
      },
      "outputs": [
        {
          "output_type": "execute_result",
          "data": {
            "text/plain": [
              "32.857142857142854"
            ]
          },
          "metadata": {},
          "execution_count": 25
        }
      ],
      "source": [
        "# classic division returns a float\n",
        "23/7 * 10"
      ]
    },
    {
      "cell_type": "code",
      "source": [
        "10 * 29 / 3"
      ],
      "metadata": {
        "colab": {
          "base_uri": "https://localhost:8080/"
        },
        "id": "eIHYxwsCuXNN",
        "outputId": "9e50ef9c-6b80-499f-b37d-081c1c175957"
      },
      "execution_count": null,
      "outputs": [
        {
          "output_type": "execute_result",
          "data": {
            "text/plain": [
              "96.66666666666667"
            ]
          },
          "metadata": {},
          "execution_count": 58
        }
      ]
    },
    {
      "cell_type": "code",
      "execution_count": null,
      "metadata": {
        "id": "CjDuJ9zqRzmS",
        "outputId": "ef48ca17-35ac-476a-931e-f34931e75cb7",
        "colab": {
          "base_uri": "https://localhost:8080/"
        }
      },
      "outputs": [
        {
          "output_type": "stream",
          "name": "stdout",
          "text": [
            "3.2857142857142856\n",
            "3\n"
          ]
        }
      ],
      "source": [
        "# floor division discards the fractional part\n",
        "s = 23 / 7\n",
        "s1 = 23 // 7\n",
        "\n",
        "print(s)\n",
        "print(s1)"
      ]
    },
    {
      "cell_type": "code",
      "execution_count": null,
      "metadata": {
        "id": "q8eSw206RzmT",
        "outputId": "05702307-4d70-466e-eb7f-54695b06314b",
        "colab": {
          "base_uri": "https://localhost:8080/"
        }
      },
      "outputs": [
        {
          "output_type": "stream",
          "name": "stdout",
          "text": [
            "59.04545454545455\n",
            "708.5454545454545\n",
            "1.795715961701185e+21\n"
          ]
        }
      ],
      "source": [
        "# assigin value to variable for later use\n",
        "a = 1299 / 22\n",
        "print(a)\n",
        "print(a*12)\n",
        "print(a**12)"
      ]
    },
    {
      "cell_type": "code",
      "execution_count": null,
      "metadata": {
        "id": "NiPvZZDiRzmT",
        "outputId": "85faa5ef-d988-4d67-94ec-6b9bf3f70c60",
        "colab": {
          "base_uri": "https://localhost:8080/"
        }
      },
      "outputs": [
        {
          "output_type": "stream",
          "name": "stdout",
          "text": [
            "531.4090909090909\n",
            "1746.0584415584415\n"
          ]
        }
      ],
      "source": [
        "# use the variable a for further operations\n",
        "b = a*9\n",
        "print(b)\n",
        "print(b * s)"
      ]
    },
    {
      "cell_type": "code",
      "execution_count": null,
      "metadata": {
        "id": "DxWMtt3-RzmU"
      },
      "outputs": [],
      "source": [
        "a=2 ** 10"
      ]
    },
    {
      "cell_type": "code",
      "source": [
        "b = b ** 3\n",
        "print(b)"
      ],
      "metadata": {
        "colab": {
          "base_uri": "https://localhost:8080/"
        },
        "id": "3sFCPrBxucwB",
        "outputId": "6410594b-16f9-4664-e038-098b349bc7bd"
      },
      "execution_count": null,
      "outputs": [
        {
          "output_type": "stream",
          "name": "stdout",
          "text": [
            "3.859956866545573e+73\n"
          ]
        }
      ]
    },
    {
      "cell_type": "markdown",
      "metadata": {
        "id": "dh1UZFy3RzmU"
      },
      "source": [
        "<b>Exercise 1:</b> Assign values to some variables and perform different operations. Also print the results."
      ]
    },
    {
      "cell_type": "code",
      "execution_count": null,
      "metadata": {
        "id": "M7JxL3K4RzmV",
        "colab": {
          "base_uri": "https://localhost:8080/"
        },
        "outputId": "b4f34532-49bf-49dd-97db-88b395717a1e"
      },
      "outputs": [
        {
          "output_type": "stream",
          "name": "stdout",
          "text": [
            "2.3000000000000007\n",
            "113\n",
            "1225.6521739130435\n",
            "3.9723829977591194e+18\n"
          ]
        }
      ],
      "source": [
        "x = 123\n",
        "y = 10\n",
        "z = x/y - 10\n",
        "\n",
        "print(z)\n",
        "print(x-y)\n",
        "print(x*10 - (y/z))\n",
        "print((x ** y) / (y ** z))"
      ]
    },
    {
      "cell_type": "markdown",
      "metadata": {
        "id": "fdbNBNHLRzmV"
      },
      "source": [
        "# Import Module\n",
        "<p style=\"text-align: justify\"> Python code in one module gains access to the code in another module by the process of importing it. The import statement is the most common way of invoking the import machinery.</p>\n",
        "\n",
        "<p style=\"text-align: justify\">Python’s standard library is very extensive, offering a wide range of facilities. The library contains built-in modules (written in C) that provide access to system functionality such as file I/O that would otherwise be inaccessible to Python programmers, as well as modules written in Python that provide standardized solutions for many problems that occur in everyday programming. Some of these modules are explicitly designed to encourage and enhance the portability of Python programs by abstracting away platform-specifics into platform-neutral APIs.</p>\n",
        "\n",
        "<b> Example:</b> Python has a built-in module that you can use for mathematical tasks. The math module has a set of methods and constants. The detail documentation can be found [here](https://docs.python.org/3/library/math.html)."
      ]
    },
    {
      "cell_type": "code",
      "execution_count": null,
      "metadata": {
        "id": "W_qIawhDRzmV",
        "outputId": "e1fd4266-cac6-47b4-e10d-0dcc7b3e343f",
        "colab": {
          "base_uri": "https://localhost:8080/"
        }
      },
      "outputs": [
        {
          "output_type": "stream",
          "name": "stdout",
          "text": [
            "6.283185307179586\n",
            "3.141592653589793\n",
            "10\n",
            "True\n",
            "16\n"
          ]
        }
      ],
      "source": [
        "# importing the math module\n",
        "import math\n",
        "\n",
        "print(math.tau)\n",
        "print(math.pi)\n",
        "print(math.floor(10.36))\n",
        "print(math.isfinite(a))\n",
        "print(math.trunc(16.22))"
      ]
    },
    {
      "cell_type": "code",
      "execution_count": null,
      "metadata": {
        "id": "Q8HYTDiKRzmW",
        "outputId": "a2b0abbc-d633-41d2-84ba-6024598b076d",
        "colab": {
          "base_uri": "https://localhost:8080/"
        }
      },
      "outputs": [
        {
          "output_type": "stream",
          "name": "stdout",
          "text": [
            "25.15949125081825\n",
            "6.212855113830978e+36\n"
          ]
        }
      ],
      "source": [
        "# using the method sqrt from math\n",
        "print(math.sqrt(633))\n",
        "print(math.sqrt(b))"
      ]
    },
    {
      "cell_type": "code",
      "source": [
        "math.factorial(54)"
      ],
      "metadata": {
        "colab": {
          "base_uri": "https://localhost:8080/"
        },
        "id": "ZbVf51impuQM",
        "outputId": "065f6c07-3c47-4a0e-893e-aac53a8a1534"
      },
      "execution_count": null,
      "outputs": [
        {
          "output_type": "execute_result",
          "data": {
            "text/plain": [
              "230843697339241380472092742683027581083278564571807941132288000000000000"
            ]
          },
          "metadata": {},
          "execution_count": 205
        }
      ]
    },
    {
      "cell_type": "code",
      "source": [
        "math.prod([1,65,21,4])"
      ],
      "metadata": {
        "colab": {
          "base_uri": "https://localhost:8080/"
        },
        "id": "JLWVp6Opp_R7",
        "outputId": "69730160-2098-4972-f961-211eb3759e7a"
      },
      "execution_count": null,
      "outputs": [
        {
          "output_type": "execute_result",
          "data": {
            "text/plain": [
              "5460"
            ]
          },
          "metadata": {},
          "execution_count": 206
        }
      ]
    },
    {
      "cell_type": "markdown",
      "metadata": {
        "id": "SKFSp-jyRzmW"
      },
      "source": [
        "<b>Remember:</b> A cell always outputs the value of last variable. If you want to show other values use print. See the below cell for an example."
      ]
    },
    {
      "cell_type": "code",
      "execution_count": null,
      "metadata": {
        "id": "LplYC6VURzmW",
        "outputId": "12b0af8c-fd83-41ef-e4b2-ff92a4687d0d",
        "colab": {
          "base_uri": "https://localhost:8080/"
        }
      },
      "outputs": [
        {
          "output_type": "stream",
          "name": "stdout",
          "text": [
            "10\n",
            "1.5439827466182292e+74\n",
            "1.450793413920104e-72\n",
            "0.6500650065006501\n"
          ]
        }
      ],
      "source": [
        "print(1+9)\n",
        "print(b*4)\n",
        "print(a1/b)\n",
        "print(d/c)"
      ]
    },
    {
      "cell_type": "markdown",
      "metadata": {
        "id": "h5jaMCJgRzmX"
      },
      "source": [
        "<b>Exercise 2:</b> Import a module of your choice (other than math) and show some operations.<br>\n",
        "You can find one from all python module list [Click here](https://docs.python.org/3/py-modindex.html)."
      ]
    },
    {
      "cell_type": "code",
      "execution_count": null,
      "metadata": {
        "id": "qxLjqbuIRzmX",
        "colab": {
          "base_uri": "https://localhost:8080/"
        },
        "outputId": "2c8a718b-20d2-4593-d1b4-d668498656d8"
      },
      "outputs": [
        {
          "output_type": "stream",
          "name": "stdout",
          "text": [
            "1\n",
            "[0, 2, 1, 3, 5]\n",
            "[5, 3, 1, 2, 0]\n",
            "[5, 3, 1, 2]\n",
            "[1, 2, 3, 5]\n",
            "[17, 38, 49, 20, 40, 18, 3, 30, 28, 6]\n",
            "38\n",
            "1\n",
            "[20, 49, 30, 6, 3, 17, 40, 18, 28, 38]\n"
          ]
        }
      ],
      "source": [
        "import array\n",
        "import random\n",
        "\n",
        "a = [2,1,3]\n",
        "\n",
        "print(a.count(2))\n",
        "\n",
        "a.append(5)\n",
        "\n",
        "a.insert(0, 0)\n",
        "print(a)\n",
        "\n",
        "a.reverse()\n",
        "print(a)\n",
        "\n",
        "a.pop()\n",
        "print(a)\n",
        "\n",
        "a.sort()\n",
        "print(a)\n",
        "\n",
        "testArray = []\n",
        "\n",
        "for i in range(10):\n",
        "  testArray.append(random.randrange(50))\n",
        "\n",
        "print(testArray)\n",
        "\n",
        "index = random.choice(testArray)\n",
        "print(index)\n",
        "print(testArray.index(index))\n",
        "random.shuffle(testArray)\n",
        "print(testArray)\n"
      ]
    },
    {
      "cell_type": "markdown",
      "metadata": {
        "id": "mzYaXui8RzmX"
      },
      "source": [
        "# Object types\n",
        "The basic object types are Numbers, Strings, Lists, Dictionaries, Tuples, Files and Other types (Sets, types, None, Booleans etc.)"
      ]
    },
    {
      "cell_type": "code",
      "source": [
        "a1 = 100.57"
      ],
      "metadata": {
        "id": "m9Ph-hDmteoA"
      },
      "execution_count": null,
      "outputs": []
    },
    {
      "cell_type": "code",
      "execution_count": null,
      "metadata": {
        "id": "2RVFS2BPRzmX",
        "outputId": "db2de074-2baa-4030-f194-73fd1281de87",
        "colab": {
          "base_uri": "https://localhost:8080/"
        }
      },
      "outputs": [
        {
          "output_type": "stream",
          "name": "stdout",
          "text": [
            "<class 'list'>\n",
            "<class 'float'>\n",
            "<class 'float'>\n",
            "<class 'list'>\n",
            "<class 'int'>\n"
          ]
        }
      ],
      "source": [
        "# Checking the type of an object\n",
        "print(type(a))\n",
        "print(type(a1))\n",
        "print(type(b))\n",
        "print(type(testArray))\n",
        "print(type(index))"
      ]
    },
    {
      "cell_type": "code",
      "execution_count": null,
      "metadata": {
        "id": "AjtCCy6zRzmY",
        "outputId": "40159c7e-c42c-4f3e-820a-695c520c5c01",
        "colab": {
          "base_uri": "https://localhost:8080/"
        }
      },
      "outputs": [
        {
          "output_type": "stream",
          "name": "stdout",
          "text": [
            "<class 'int'>\n"
          ]
        }
      ],
      "source": [
        "c = 54536\n",
        "print(type(c))"
      ]
    },
    {
      "cell_type": "code",
      "execution_count": null,
      "metadata": {
        "id": "VeL6GwnsRzmY",
        "outputId": "ba79681a-851c-472e-af53-cbf48267636f",
        "colab": {
          "base_uri": "https://localhost:8080/"
        }
      },
      "outputs": [
        {
          "output_type": "stream",
          "name": "stdout",
          "text": [
            "<class 'str'>\n"
          ]
        }
      ],
      "source": [
        "d = \"testing double qoutations\"\n",
        "print(type(d))"
      ]
    },
    {
      "cell_type": "code",
      "execution_count": null,
      "metadata": {
        "id": "9ok8T1AlRzmY",
        "outputId": "35222cf9-709d-4e6d-e327-5bfdf2b8a2d5",
        "colab": {
          "base_uri": "https://localhost:8080/"
        }
      },
      "outputs": [
        {
          "output_type": "stream",
          "name": "stdout",
          "text": [
            "<class 'float'>\n"
          ]
        }
      ],
      "source": [
        "c = 99.99\n",
        "print(type(c))"
      ]
    },
    {
      "cell_type": "code",
      "execution_count": null,
      "metadata": {
        "id": "oqxDaWmCRzmY",
        "outputId": "918ea603-7fbf-4bfb-9fa5-d0ca22d5d08b",
        "colab": {
          "base_uri": "https://localhost:8080/"
        }
      },
      "outputs": [
        {
          "output_type": "stream",
          "name": "stdout",
          "text": [
            "<class 'int'>\n"
          ]
        }
      ],
      "source": [
        "a1 = 56\n",
        "d = 9+a1\n",
        "print(type(d))"
      ]
    },
    {
      "cell_type": "markdown",
      "metadata": {
        "id": "_3kFNbooRzmZ"
      },
      "source": [
        "# String"
      ]
    },
    {
      "cell_type": "code",
      "execution_count": null,
      "metadata": {
        "id": "4RDuLVuHRzmZ"
      },
      "outputs": [],
      "source": [
        "# assign value to a variable. The value can be qouted using '' or \"\"\n",
        "str1 = 'Phantom Liberty'"
      ]
    },
    {
      "cell_type": "code",
      "execution_count": null,
      "metadata": {
        "id": "YgdInV-bRzmZ",
        "outputId": "b3b6b6f0-350d-4e55-cc62-e49c4bb28531",
        "colab": {
          "base_uri": "https://localhost:8080/"
        }
      },
      "outputs": [
        {
          "output_type": "stream",
          "name": "stdout",
          "text": [
            "m\n",
            "i\n"
          ]
        }
      ],
      "source": [
        "# index\n",
        "print(str1[6])\n",
        "print(str1[-6])"
      ]
    },
    {
      "cell_type": "code",
      "execution_count": null,
      "metadata": {
        "id": "SApsog7_RzmZ",
        "outputId": "991b0273-b0a7-4ef3-fd19-4ca291c881f7",
        "colab": {
          "base_uri": "https://localhost:8080/"
        }
      },
      "outputs": [
        {
          "output_type": "stream",
          "name": "stdout",
          "text": [
            " \n",
            "u\n"
          ]
        }
      ],
      "source": [
        "# negative index\n",
        "str2 = 'Cyberpunk 2077'\n",
        "print(str2[-5]) # this one outputs the blank space\n",
        "print(str2[-8])"
      ]
    },
    {
      "cell_type": "markdown",
      "metadata": {
        "id": "0eT9wh_LRzma"
      },
      "source": [
        "When to use ' ' or \" \" ?"
      ]
    },
    {
      "cell_type": "markdown",
      "metadata": {
        "id": "WoJmaAijRzma"
      },
      "source": [
        "string operations with * and +"
      ]
    },
    {
      "cell_type": "code",
      "execution_count": null,
      "metadata": {
        "id": "BfxzLD9HRzma",
        "outputId": "61d6b77d-fb14-4351-920a-21801cef85d7",
        "colab": {
          "base_uri": "https://localhost:8080/",
          "height": 87
        }
      },
      "outputs": [
        {
          "output_type": "execute_result",
          "data": {
            "text/plain": [
              "'Dogtown Dogtown Dogtown Dogtown Dogtown Dogtown Dogtown Dogtown Dogtown Dogtown Dogtown Dogtown Dogtown Dogtown Dogtown Dogtown Dogtown Dogtown Dogtown Dogtown Dogtown Dogtown Dogtown Dogtown Dogtown Dogtown Dogtown Dogtown Dogtown Dogtown Dogtown Dogtown Dogtown Dogtown Dogtown Dogtown Dogtown Dogtown Dogtown Dogtown Dogtown Dogtown Dogtown Dogtown Dogtown Dogtown Dogtown Dogtown Dogtown Dogtown Dogtown Dogtown Dogtown Dogtown Dogtown Dogtown Dogtown Dogtown Dogtown Dogtown Dogtown Dogtown Dogtown Dogtown Dogtown Dogtown Dogtown Dogtown Dogtown Dogtown Dogtown Dogtown Dogtown Dogtown Dogtown Dogtown Dogtown '"
            ],
            "application/vnd.google.colaboratory.intrinsic+json": {
              "type": "string"
            }
          },
          "metadata": {},
          "execution_count": 86
        }
      ],
      "source": [
        "'Dogtown ' * 77"
      ]
    },
    {
      "cell_type": "code",
      "execution_count": null,
      "metadata": {
        "id": "BNSbM0HNRzma",
        "outputId": "2f47ff4a-2d94-497c-8f75-31241db391f0",
        "colab": {
          "base_uri": "https://localhost:8080/",
          "height": 35
        }
      },
      "outputs": [
        {
          "output_type": "execute_result",
          "data": {
            "text/plain": [
              "'MyersMyersMyersMyersMyersMyersMyersMyers'"
            ],
            "application/vnd.google.colaboratory.intrinsic+json": {
              "type": "string"
            }
          },
          "metadata": {},
          "execution_count": 89
        }
      ],
      "source": [
        "name1 ='Myers'\n",
        "name1 * 8"
      ]
    },
    {
      "cell_type": "code",
      "execution_count": null,
      "metadata": {
        "id": "v6WtfbxURzma",
        "outputId": "8141bd4b-da5c-4c94-a05b-691d6f28653e",
        "colab": {
          "base_uri": "https://localhost:8080/",
          "height": 35
        }
      },
      "outputs": [
        {
          "output_type": "execute_result",
          "data": {
            "text/plain": [
              "'Myers Reed'"
            ],
            "application/vnd.google.colaboratory.intrinsic+json": {
              "type": "string"
            }
          },
          "metadata": {},
          "execution_count": 90
        }
      ],
      "source": [
        "name1 + ' ' + 'Reed'"
      ]
    },
    {
      "cell_type": "code",
      "execution_count": null,
      "metadata": {
        "id": "itSLVn7SRzmb",
        "outputId": "f5b9f6bb-1271-4edd-8cf3-b7a2b19d2048",
        "colab": {
          "base_uri": "https://localhost:8080/",
          "height": 35
        }
      },
      "outputs": [
        {
          "output_type": "execute_result",
          "data": {
            "text/plain": [
              "'Myers Nomad'"
            ],
            "application/vnd.google.colaboratory.intrinsic+json": {
              "type": "string"
            }
          },
          "metadata": {},
          "execution_count": 92
        }
      ],
      "source": [
        "name1 + ' Nomad'"
      ]
    },
    {
      "cell_type": "code",
      "execution_count": null,
      "metadata": {
        "id": "AaNhu8QMRzmb",
        "outputId": "1c21e57a-90a7-41e8-c656-65f467291db7",
        "colab": {
          "base_uri": "https://localhost:8080/"
        }
      },
      "outputs": [
        {
          "output_type": "stream",
          "name": "stdout",
          "text": [
            "Songbird\n",
            "Song So Mi\n",
            "Song\n",
            "So Mi\n",
            "Sgoi\n",
            "dribgnoS\n"
          ]
        }
      ],
      "source": [
        "# slicing\n",
        "name = 'Songbird Song So Mi'\n",
        "print(name[0:8])\n",
        "print(name[9:])\n",
        "print(name[:4])\n",
        "print(name[-5:])\n",
        "print(name[9: :3])\n",
        "print(name[-12: :-1])"
      ]
    },
    {
      "cell_type": "code",
      "execution_count": null,
      "metadata": {
        "id": "k9ICF4NARzmb",
        "outputId": "1b7b7bdc-784e-480b-f822-8cf275af74dc",
        "colab": {
          "base_uri": "https://localhost:8080/",
          "height": 35
        }
      },
      "outputs": [
        {
          "output_type": "execute_result",
          "data": {
            "text/plain": [
              "'Song So'"
            ],
            "application/vnd.google.colaboratory.intrinsic+json": {
              "type": "string"
            }
          },
          "metadata": {},
          "execution_count": 102
        }
      ],
      "source": [
        "name[-10:-3]"
      ]
    },
    {
      "cell_type": "code",
      "execution_count": null,
      "metadata": {
        "id": "J6Q9RXwSRzmb"
      },
      "outputs": [],
      "source": [
        "#dir(name)"
      ]
    },
    {
      "cell_type": "markdown",
      "metadata": {
        "id": "TGAKdDQtRzmb"
      },
      "source": [
        "Some examples of string methods"
      ]
    },
    {
      "cell_type": "code",
      "execution_count": null,
      "metadata": {
        "id": "63sdbV7gRzmb",
        "outputId": "b217ecb9-189d-46fd-9dbf-2f44cb07ca0e",
        "colab": {
          "base_uri": "https://localhost:8080/"
        }
      },
      "outputs": [
        {
          "output_type": "execute_result",
          "data": {
            "text/plain": [
              "1"
            ]
          },
          "metadata": {},
          "execution_count": 104
        }
      ],
      "source": [
        "name2 = 'Johnny Silverhand'\n",
        "check = 'a'\n",
        "name2.count(check)"
      ]
    },
    {
      "cell_type": "code",
      "execution_count": null,
      "metadata": {
        "id": "WFTSySe3Rzmc",
        "outputId": "95aff4d5-22b8-46bc-c17f-72de04cf5613",
        "colab": {
          "base_uri": "https://localhost:8080/"
        }
      },
      "outputs": [
        {
          "output_type": "stream",
          "name": "stdout",
          "text": [
            "Silverhand\n"
          ]
        }
      ],
      "source": [
        "print(name2.split()[-1])"
      ]
    },
    {
      "cell_type": "code",
      "execution_count": null,
      "metadata": {
        "id": "sc6pVggQRzmc",
        "outputId": "10101418-720f-4517-b46d-8c2314c21625",
        "colab": {
          "base_uri": "https://localhost:8080/"
        }
      },
      "outputs": [
        {
          "output_type": "execute_result",
          "data": {
            "text/plain": [
              "False"
            ]
          },
          "metadata": {},
          "execution_count": 107
        }
      ],
      "source": [
        "name1.islower()"
      ]
    },
    {
      "cell_type": "code",
      "source": [
        "'Valarie'.islower()"
      ],
      "metadata": {
        "colab": {
          "base_uri": "https://localhost:8080/"
        },
        "id": "mqlWMmsRxaxp",
        "outputId": "0c55a1de-1b97-4529-cfdf-432c6bef415d"
      },
      "execution_count": null,
      "outputs": [
        {
          "output_type": "execute_result",
          "data": {
            "text/plain": [
              "False"
            ]
          },
          "metadata": {},
          "execution_count": 108
        }
      ]
    },
    {
      "cell_type": "code",
      "source": [
        "'HENSEN'.isupper()"
      ],
      "metadata": {
        "colab": {
          "base_uri": "https://localhost:8080/"
        },
        "id": "bjqhWIGvxe5P",
        "outputId": "4363ce3e-518a-4b88-e147-bf4d166bb896"
      },
      "execution_count": null,
      "outputs": [
        {
          "output_type": "execute_result",
          "data": {
            "text/plain": [
              "True"
            ]
          },
          "metadata": {},
          "execution_count": 109
        }
      ]
    },
    {
      "cell_type": "code",
      "execution_count": null,
      "metadata": {
        "id": "SLicn7tNRzmc",
        "outputId": "6bd6b765-67c9-4981-e38f-7fdeb280de22",
        "colab": {
          "base_uri": "https://localhost:8080/"
        }
      },
      "outputs": [
        {
          "output_type": "execute_result",
          "data": {
            "text/plain": [
              "['We cannot have hope for a good life.',\n",
              " 'This is the wrong city, ',\n",
              " ' We met the wrong people']"
            ]
          },
          "metadata": {},
          "execution_count": 112
        }
      ],
      "source": [
        "testString = 'We cannot have hope for a good life.\\nThis is the wrong city, \\n We met the wrong people'\n",
        "testString.splitlines()"
      ]
    },
    {
      "cell_type": "code",
      "execution_count": null,
      "metadata": {
        "id": "lZa1oYLBRzmc",
        "outputId": "f9bf137c-2b88-4ec5-ab25-55f9c14830a4",
        "colab": {
          "base_uri": "https://localhost:8080/"
        }
      },
      "outputs": [
        {
          "output_type": "execute_result",
          "data": {
            "text/plain": [
              "['We',\n",
              " 'cannot',\n",
              " 'have',\n",
              " 'hope',\n",
              " 'for',\n",
              " 'a',\n",
              " 'good',\n",
              " 'life.\\nThis',\n",
              " 'is',\n",
              " 'the',\n",
              " 'wrong',\n",
              " 'city,',\n",
              " '\\n',\n",
              " 'We',\n",
              " 'met',\n",
              " 'the',\n",
              " 'wrong',\n",
              " 'people']"
            ]
          },
          "metadata": {},
          "execution_count": 113
        }
      ],
      "source": [
        "testString.split(' ')"
      ]
    },
    {
      "cell_type": "code",
      "execution_count": null,
      "metadata": {
        "id": "ykc0YfK6Rzmc",
        "outputId": "b17882d6-184c-444f-f201-bf94fe2a6957",
        "colab": {
          "base_uri": "https://localhost:8080/",
          "height": 35
        }
      },
      "outputs": [
        {
          "output_type": "execute_result",
          "data": {
            "text/plain": [
              "'Phantom Liberty >> Main story >> Cyberpunk >> 2077'"
            ],
            "application/vnd.google.colaboratory.intrinsic+json": {
              "type": "string"
            }
          },
          "metadata": {},
          "execution_count": 115
        }
      ],
      "source": [
        "separator = ' >> '\n",
        "testList = ['Phantom Liberty', 'Main story', 'Cyberpunk', '2077']\n",
        "separator.join(testList)"
      ]
    },
    {
      "cell_type": "code",
      "execution_count": null,
      "metadata": {
        "id": "6HTmr471Rzmc",
        "colab": {
          "base_uri": "https://localhost:8080/"
        },
        "outputId": "793f0af0-ebe8-4c6f-eb9e-6749cb7318fa"
      },
      "outputs": [
        {
          "output_type": "stream",
          "name": "stdout",
          "text": [
            "Help on built-in function count:\n",
            "\n",
            "count(value, /) method of builtins.list instance\n",
            "    Return number of occurrences of value.\n",
            "\n"
          ]
        }
      ],
      "source": [
        "help(testList.count)"
      ]
    },
    {
      "cell_type": "code",
      "execution_count": null,
      "metadata": {
        "id": "wbIi_KpeRzmc",
        "outputId": "bdab9f0b-f6c3-4a76-9a49-f31529ca075d",
        "colab": {
          "base_uri": "https://localhost:8080/"
        }
      },
      "outputs": [
        {
          "output_type": "execute_result",
          "data": {
            "text/plain": [
              "4"
            ]
          },
          "metadata": {},
          "execution_count": 117
        }
      ],
      "source": [
        "len(testList)"
      ]
    },
    {
      "cell_type": "code",
      "source": [
        "len(testString)"
      ],
      "metadata": {
        "colab": {
          "base_uri": "https://localhost:8080/"
        },
        "id": "Slg0At8yyM7p",
        "outputId": "ba1b4546-b035-4be3-fc7d-a85a78261c0e"
      },
      "execution_count": null,
      "outputs": [
        {
          "output_type": "execute_result",
          "data": {
            "text/plain": [
              "86"
            ]
          },
          "metadata": {},
          "execution_count": 119
        }
      ]
    },
    {
      "cell_type": "code",
      "source": [
        "# check which functions you can use with variable 'name'\n",
        "dir(name)"
      ],
      "metadata": {
        "colab": {
          "base_uri": "https://localhost:8080/"
        },
        "id": "L5ZJ-zcJ872r",
        "outputId": "51b42e43-5c7a-4c1f-f1d1-163a8cfed6f9"
      },
      "execution_count": null,
      "outputs": [
        {
          "output_type": "execute_result",
          "data": {
            "text/plain": [
              "['__add__',\n",
              " '__class__',\n",
              " '__contains__',\n",
              " '__delattr__',\n",
              " '__dir__',\n",
              " '__doc__',\n",
              " '__eq__',\n",
              " '__format__',\n",
              " '__ge__',\n",
              " '__getattribute__',\n",
              " '__getitem__',\n",
              " '__getnewargs__',\n",
              " '__gt__',\n",
              " '__hash__',\n",
              " '__init__',\n",
              " '__init_subclass__',\n",
              " '__iter__',\n",
              " '__le__',\n",
              " '__len__',\n",
              " '__lt__',\n",
              " '__mod__',\n",
              " '__mul__',\n",
              " '__ne__',\n",
              " '__new__',\n",
              " '__reduce__',\n",
              " '__reduce_ex__',\n",
              " '__repr__',\n",
              " '__rmod__',\n",
              " '__rmul__',\n",
              " '__setattr__',\n",
              " '__sizeof__',\n",
              " '__str__',\n",
              " '__subclasshook__',\n",
              " 'capitalize',\n",
              " 'casefold',\n",
              " 'center',\n",
              " 'count',\n",
              " 'encode',\n",
              " 'endswith',\n",
              " 'expandtabs',\n",
              " 'find',\n",
              " 'format',\n",
              " 'format_map',\n",
              " 'index',\n",
              " 'isalnum',\n",
              " 'isalpha',\n",
              " 'isascii',\n",
              " 'isdecimal',\n",
              " 'isdigit',\n",
              " 'isidentifier',\n",
              " 'islower',\n",
              " 'isnumeric',\n",
              " 'isprintable',\n",
              " 'isspace',\n",
              " 'istitle',\n",
              " 'isupper',\n",
              " 'join',\n",
              " 'ljust',\n",
              " 'lower',\n",
              " 'lstrip',\n",
              " 'maketrans',\n",
              " 'partition',\n",
              " 'replace',\n",
              " 'rfind',\n",
              " 'rindex',\n",
              " 'rjust',\n",
              " 'rpartition',\n",
              " 'rsplit',\n",
              " 'rstrip',\n",
              " 'split',\n",
              " 'splitlines',\n",
              " 'startswith',\n",
              " 'strip',\n",
              " 'swapcase',\n",
              " 'title',\n",
              " 'translate',\n",
              " 'upper',\n",
              " 'zfill']"
            ]
          },
          "metadata": {},
          "execution_count": 34
        }
      ]
    },
    {
      "cell_type": "code",
      "source": [
        "dir(testString)"
      ],
      "metadata": {
        "colab": {
          "base_uri": "https://localhost:8080/"
        },
        "id": "3KYejyWlyVQp",
        "outputId": "bccacff4-d008-4303-b6c2-218cb8afe1cb"
      },
      "execution_count": null,
      "outputs": [
        {
          "output_type": "execute_result",
          "data": {
            "text/plain": [
              "['__add__',\n",
              " '__class__',\n",
              " '__contains__',\n",
              " '__delattr__',\n",
              " '__dir__',\n",
              " '__doc__',\n",
              " '__eq__',\n",
              " '__format__',\n",
              " '__ge__',\n",
              " '__getattribute__',\n",
              " '__getitem__',\n",
              " '__getnewargs__',\n",
              " '__gt__',\n",
              " '__hash__',\n",
              " '__init__',\n",
              " '__init_subclass__',\n",
              " '__iter__',\n",
              " '__le__',\n",
              " '__len__',\n",
              " '__lt__',\n",
              " '__mod__',\n",
              " '__mul__',\n",
              " '__ne__',\n",
              " '__new__',\n",
              " '__reduce__',\n",
              " '__reduce_ex__',\n",
              " '__repr__',\n",
              " '__rmod__',\n",
              " '__rmul__',\n",
              " '__setattr__',\n",
              " '__sizeof__',\n",
              " '__str__',\n",
              " '__subclasshook__',\n",
              " 'capitalize',\n",
              " 'casefold',\n",
              " 'center',\n",
              " 'count',\n",
              " 'encode',\n",
              " 'endswith',\n",
              " 'expandtabs',\n",
              " 'find',\n",
              " 'format',\n",
              " 'format_map',\n",
              " 'index',\n",
              " 'isalnum',\n",
              " 'isalpha',\n",
              " 'isascii',\n",
              " 'isdecimal',\n",
              " 'isdigit',\n",
              " 'isidentifier',\n",
              " 'islower',\n",
              " 'isnumeric',\n",
              " 'isprintable',\n",
              " 'isspace',\n",
              " 'istitle',\n",
              " 'isupper',\n",
              " 'join',\n",
              " 'ljust',\n",
              " 'lower',\n",
              " 'lstrip',\n",
              " 'maketrans',\n",
              " 'partition',\n",
              " 'removeprefix',\n",
              " 'removesuffix',\n",
              " 'replace',\n",
              " 'rfind',\n",
              " 'rindex',\n",
              " 'rjust',\n",
              " 'rpartition',\n",
              " 'rsplit',\n",
              " 'rstrip',\n",
              " 'split',\n",
              " 'splitlines',\n",
              " 'startswith',\n",
              " 'strip',\n",
              " 'swapcase',\n",
              " 'title',\n",
              " 'translate',\n",
              " 'upper',\n",
              " 'zfill']"
            ]
          },
          "metadata": {},
          "execution_count": 120
        }
      ]
    },
    {
      "cell_type": "code",
      "source": [
        "help(name1.split)"
      ],
      "metadata": {
        "colab": {
          "base_uri": "https://localhost:8080/"
        },
        "id": "LB96x9cM9Z9_",
        "outputId": "84d25b7c-5455-4ff8-e279-5e3c71bd14da"
      },
      "execution_count": null,
      "outputs": [
        {
          "output_type": "stream",
          "name": "stdout",
          "text": [
            "Help on built-in function split:\n",
            "\n",
            "split(sep=None, maxsplit=-1) method of builtins.str instance\n",
            "    Return a list of the substrings in the string, using sep as the separator string.\n",
            "    \n",
            "      sep\n",
            "        The separator used to split the string.\n",
            "    \n",
            "        When set to None (the default value), will split on any whitespace\n",
            "        character (including \\\\n \\\\r \\\\t \\\\f and spaces) and will discard\n",
            "        empty strings from the result.\n",
            "      maxsplit\n",
            "        Maximum number of splits (starting from the left).\n",
            "        -1 (the default value) means no limit.\n",
            "    \n",
            "    Note, str.split() is mainly useful for data that has been intentionally\n",
            "    delimited.  With natural text that includes punctuation, consider using\n",
            "    the regular expression module.\n",
            "\n"
          ]
        }
      ]
    },
    {
      "cell_type": "code",
      "source": [
        "name1.split()"
      ],
      "metadata": {
        "colab": {
          "base_uri": "https://localhost:8080/"
        },
        "id": "6YhdUiQNyZ5G",
        "outputId": "948d2a24-508f-4fa0-ce00-ce0997dded4b"
      },
      "execution_count": null,
      "outputs": [
        {
          "output_type": "execute_result",
          "data": {
            "text/plain": [
              "['Myers']"
            ]
          },
          "metadata": {},
          "execution_count": 122
        }
      ]
    },
    {
      "cell_type": "markdown",
      "metadata": {
        "id": "tmPN3EFcRzmd"
      },
      "source": [
        "<b>Exercise 3:</b> Demonstrate some string operations. Also, show uses of some string methods."
      ]
    },
    {
      "cell_type": "code",
      "execution_count": null,
      "metadata": {
        "id": "aHc4MuaTRzmd",
        "colab": {
          "base_uri": "https://localhost:8080/"
        },
        "outputId": "f18baf5e-eea7-43bc-9dab-1232284e50a2"
      },
      "outputs": [
        {
          "output_type": "stream",
          "name": "stdout",
          "text": [
            "0\n",
            "Rosalyn Myers,NUSA\n",
            "['Rosalyn Myers', 'NUSA']\n",
            "1\n",
            "False\n",
            "ROSALYN MYERS,NUSA\n"
          ]
        }
      ],
      "source": [
        "string1 = 'Rosalyn Myers'\n",
        "\n",
        "string2 = string1 + \",NUSA\"\n",
        "print(string2.index('R'))\n",
        "\n",
        "print(string2)\n",
        "print(string2.split(','))\n",
        "print(string2.count('M'))\n",
        "print(string2.isdecimal())\n",
        "print(string2.upper())"
      ]
    },
    {
      "cell_type": "markdown",
      "metadata": {
        "id": "6gr5VKcARzmd"
      },
      "source": [
        "# List\n",
        "<p style=\"text-align: justify\">Python knows a number of compound data types, used to group together other values. The most versatile is the list, which can be written as a list of comma-separated values (items) between square brackets. Lists might contain items of different types, but usually the items all have the same type.</p>"
      ]
    },
    {
      "cell_type": "code",
      "execution_count": null,
      "metadata": {
        "id": "1Upn_AwwRzmd",
        "outputId": "b654ae7e-eac0-439b-d906-0b45c8a7ea3d",
        "colab": {
          "base_uri": "https://localhost:8080/"
        }
      },
      "outputs": [
        {
          "output_type": "execute_result",
          "data": {
            "text/plain": [
              "[1, 4.6, ['Cyberpunk', 2077], 16, 'rono']"
            ]
          },
          "metadata": {},
          "execution_count": 135
        }
      ],
      "source": [
        "randomThings = [1, 4.6, ['Cyberpunk', 2077], 16, 'rono']\n",
        "randomThings"
      ]
    },
    {
      "cell_type": "code",
      "execution_count": null,
      "metadata": {
        "id": "MSN71x4NRzmd",
        "colab": {
          "base_uri": "https://localhost:8080/"
        },
        "outputId": "a52dc8e4-d489-4073-8f7b-fd9392880318"
      },
      "outputs": [
        {
          "output_type": "stream",
          "name": "stdout",
          "text": [
            "['Rogue', 23, 'Player', ['Reyfield', 135000], 6.66, 'West Town']\n"
          ]
        }
      ],
      "source": [
        "data = [23, 'Player', ['Reyfield', 135000] ,6.66, 'West Town']\n",
        "data.insert(0,'Rogue')\n",
        "print(data)"
      ]
    },
    {
      "cell_type": "markdown",
      "metadata": {
        "id": "EAZkybb9Rzmd"
      },
      "source": [
        "Like strings (and all other built-in sequence types), lists can be indexed and sliced:"
      ]
    },
    {
      "cell_type": "code",
      "execution_count": null,
      "metadata": {
        "id": "mroJxa8xRzmd",
        "outputId": "d8dbfa89-153b-4e21-dc08-d41dc481995c",
        "colab": {
          "base_uri": "https://localhost:8080/",
          "height": 35
        }
      },
      "outputs": [
        {
          "output_type": "execute_result",
          "data": {
            "text/plain": [
              "'Reyfield'"
            ],
            "application/vnd.google.colaboratory.intrinsic+json": {
              "type": "string"
            }
          },
          "metadata": {},
          "execution_count": 138
        }
      ],
      "source": [
        "data[3][0]"
      ]
    },
    {
      "cell_type": "code",
      "execution_count": null,
      "metadata": {
        "id": "9hZ2VcSURzmd",
        "outputId": "89a9351b-9658-405a-be0d-b1d940103444",
        "colab": {
          "base_uri": "https://localhost:8080/"
        }
      },
      "outputs": [
        {
          "output_type": "execute_result",
          "data": {
            "text/plain": [
              "6.66"
            ]
          },
          "metadata": {},
          "execution_count": 139
        }
      ],
      "source": [
        "data[-2]"
      ]
    },
    {
      "cell_type": "code",
      "execution_count": null,
      "metadata": {
        "id": "7OTvEEpmRzme",
        "outputId": "c7b3d78a-7866-48e8-bb45-6bc12be47ace",
        "colab": {
          "base_uri": "https://localhost:8080/"
        }
      },
      "outputs": [
        {
          "output_type": "execute_result",
          "data": {
            "text/plain": [
              "['Rogue', 23]"
            ]
          },
          "metadata": {},
          "execution_count": 140
        }
      ],
      "source": [
        "data[0:2]"
      ]
    },
    {
      "cell_type": "code",
      "execution_count": null,
      "metadata": {
        "id": "CNJjqWtzRzme",
        "outputId": "bc883a75-b21d-4130-bf4c-9a5267ec5322",
        "colab": {
          "base_uri": "https://localhost:8080/"
        }
      },
      "outputs": [
        {
          "output_type": "execute_result",
          "data": {
            "text/plain": [
              "['Reyfield', 135000]"
            ]
          },
          "metadata": {},
          "execution_count": 141
        }
      ],
      "source": [
        "data[3]"
      ]
    },
    {
      "cell_type": "code",
      "execution_count": null,
      "metadata": {
        "id": "DyOJ1nzPRzme",
        "outputId": "e601a132-4b30-4399-d483-21cbd6c125a6",
        "colab": {
          "base_uri": "https://localhost:8080/"
        }
      },
      "outputs": [
        {
          "output_type": "execute_result",
          "data": {
            "text/plain": [
              "135000"
            ]
          },
          "metadata": {},
          "execution_count": 142
        }
      ],
      "source": [
        "data[3][1]"
      ]
    },
    {
      "cell_type": "code",
      "execution_count": null,
      "metadata": {
        "id": "ODxFEFb6Rzme",
        "outputId": "52fde403-8806-432a-809a-5ce65ca42ebd",
        "colab": {
          "base_uri": "https://localhost:8080/"
        }
      },
      "outputs": [
        {
          "output_type": "execute_result",
          "data": {
            "text/plain": [
              "6"
            ]
          },
          "metadata": {},
          "execution_count": 143
        }
      ],
      "source": [
        "len(data)"
      ]
    },
    {
      "cell_type": "code",
      "execution_count": null,
      "metadata": {
        "id": "k8zOnP5zRzme",
        "outputId": "e9007302-d194-459a-880c-ac3c8f9e0e73",
        "colab": {
          "base_uri": "https://localhost:8080/"
        }
      },
      "outputs": [
        {
          "output_type": "execute_result",
          "data": {
            "text/plain": [
              "['Rogue', 23, 'Player', ['Reyfield', 135000], 6.66, 'West Town']"
            ]
          },
          "metadata": {},
          "execution_count": 144
        }
      ],
      "source": [
        "data"
      ]
    },
    {
      "cell_type": "markdown",
      "metadata": {
        "id": "UgYmz8egRzme"
      },
      "source": [
        "Some list methods"
      ]
    },
    {
      "cell_type": "code",
      "execution_count": null,
      "metadata": {
        "id": "Jv-Oj-oNRzme",
        "outputId": "9702df2a-265c-43eb-d873-12e615be88f6",
        "colab": {
          "base_uri": "https://localhost:8080/"
        }
      },
      "outputs": [
        {
          "output_type": "stream",
          "name": "stdout",
          "text": [
            "['Rogue', 23, 'Player', ['Reyfield', 135000], 6.66, 'West Town', 'Alex']\n"
          ]
        }
      ],
      "source": [
        "data.append(\"Alex\")\n",
        "print(data)"
      ]
    },
    {
      "cell_type": "code",
      "source": [
        "data.insert(4,['Amazon', 1221])\n",
        "print(data)"
      ],
      "metadata": {
        "colab": {
          "base_uri": "https://localhost:8080/"
        },
        "id": "M5aM4EXeQMIZ",
        "outputId": "5810ea9d-378f-4fa6-fb34-35d74e00ed49"
      },
      "execution_count": null,
      "outputs": [
        {
          "output_type": "stream",
          "name": "stdout",
          "text": [
            "['Rogue', 23, 'Player', ['Reyfield', 135000], ['Amazon', 1221], 6.66, 'West Town', 'Alex']\n"
          ]
        }
      ]
    },
    {
      "cell_type": "code",
      "execution_count": null,
      "metadata": {
        "id": "CZ6yqnLARzmf",
        "outputId": "1b30f915-0dcb-4081-a0c4-b8c450e4aeb5",
        "colab": {
          "base_uri": "https://localhost:8080/"
        }
      },
      "outputs": [
        {
          "output_type": "stream",
          "name": "stdout",
          "text": [
            "['Rogue', 23, 'Player', ['Reyfield', 135000], ['Amazon', 1221], 6.66, 'West Town']\n"
          ]
        }
      ],
      "source": [
        "data.remove('Alex')\n",
        "print(data)"
      ]
    },
    {
      "cell_type": "code",
      "execution_count": null,
      "metadata": {
        "id": "tKqaqnIBRzmf",
        "outputId": "05fa08bf-8141-4494-e0c7-7404e5cb81cb",
        "colab": {
          "base_uri": "https://localhost:8080/"
        }
      },
      "outputs": [
        {
          "output_type": "stream",
          "name": "stdout",
          "text": [
            "['Rogue', 23, 'Player', ['Reyfield', 135000], ['Amazon', 1221], 6.66]\n"
          ]
        }
      ],
      "source": [
        "data.pop()\n",
        "print(data)"
      ]
    },
    {
      "cell_type": "code",
      "execution_count": null,
      "metadata": {
        "id": "VFtxe-7pRzmf",
        "colab": {
          "base_uri": "https://localhost:8080/"
        },
        "outputId": "c6ebde04-dd3b-41ca-81d1-0c2e38a2dc87"
      },
      "outputs": [
        {
          "output_type": "execute_result",
          "data": {
            "text/plain": [
              "['__add__',\n",
              " '__class__',\n",
              " '__contains__',\n",
              " '__delattr__',\n",
              " '__delitem__',\n",
              " '__dir__',\n",
              " '__doc__',\n",
              " '__eq__',\n",
              " '__format__',\n",
              " '__ge__',\n",
              " '__getattribute__',\n",
              " '__getitem__',\n",
              " '__gt__',\n",
              " '__hash__',\n",
              " '__iadd__',\n",
              " '__imul__',\n",
              " '__init__',\n",
              " '__init_subclass__',\n",
              " '__iter__',\n",
              " '__le__',\n",
              " '__len__',\n",
              " '__lt__',\n",
              " '__mul__',\n",
              " '__ne__',\n",
              " '__new__',\n",
              " '__reduce__',\n",
              " '__reduce_ex__',\n",
              " '__repr__',\n",
              " '__reversed__',\n",
              " '__rmul__',\n",
              " '__setattr__',\n",
              " '__setitem__',\n",
              " '__sizeof__',\n",
              " '__str__',\n",
              " '__subclasshook__',\n",
              " 'append',\n",
              " 'clear',\n",
              " 'copy',\n",
              " 'count',\n",
              " 'extend',\n",
              " 'index',\n",
              " 'insert',\n",
              " 'pop',\n",
              " 'remove',\n",
              " 'reverse',\n",
              " 'sort']"
            ]
          },
          "metadata": {},
          "execution_count": 67
        }
      ],
      "source": [
        "dir(data)"
      ]
    },
    {
      "cell_type": "code",
      "execution_count": null,
      "metadata": {
        "id": "8EW2S40DRzmf"
      },
      "outputs": [],
      "source": [
        "#help(data.insert)"
      ]
    },
    {
      "cell_type": "markdown",
      "metadata": {
        "id": "7SDG91olRzmf"
      },
      "source": [
        "Lists also support operations like concatenation"
      ]
    },
    {
      "cell_type": "code",
      "execution_count": null,
      "metadata": {
        "id": "yyLLhPTYRzmf",
        "outputId": "3821e2de-1c2b-4daa-dc38-765048554aa5",
        "colab": {
          "base_uri": "https://localhost:8080/"
        }
      },
      "outputs": [
        {
          "output_type": "execute_result",
          "data": {
            "text/plain": [
              "[1,\n",
              " 4.6,\n",
              " ['Cyberpunk', 2077],\n",
              " 16,\n",
              " 'rono',\n",
              " 'Rogue',\n",
              " 23,\n",
              " 'Player',\n",
              " ['Reyfield', 135000],\n",
              " ['Amazon', 1221],\n",
              " 6.66]"
            ]
          },
          "metadata": {},
          "execution_count": 149
        }
      ],
      "source": [
        "randomThings + data"
      ]
    },
    {
      "cell_type": "markdown",
      "metadata": {
        "id": "s235DeNcRzmf"
      },
      "source": [
        "<b> Exercise 4:</b> Implement stack using list\n",
        "<p><b>Hints:</b> The list methods make it very easy to use a list as a stack, where the last element added is the first element retrieved (“last-in, first-out”). To add an item to the top of the stack, use append(). To retrieve an item from the top of the stack, use pop() without an explicit index</p>"
      ]
    },
    {
      "cell_type": "code",
      "execution_count": null,
      "metadata": {
        "id": "Ch_6MsYeRzmf",
        "colab": {
          "base_uri": "https://localhost:8080/"
        },
        "outputId": "74d3f6f2-6eb0-4eb3-c491-a18667605b0d"
      },
      "outputs": [
        {
          "output_type": "stream",
          "name": "stdout",
          "text": [
            "[101, 102, 103, 104]\n",
            "[101, 102, 103]\n",
            "[101, 102, 103, 105]\n"
          ]
        }
      ],
      "source": [
        "# for stack we need LIFO structure\n",
        "\n",
        "stack = []\n",
        "\n",
        "stack.append(101) #inserts at the last\n",
        "stack.append(102)\n",
        "stack.append(103)\n",
        "stack.append(104)\n",
        "\n",
        "print(stack)\n",
        "\n",
        "stack.pop() #deletes the last element\n",
        "print(stack)\n",
        "\n",
        "stack.append(105)\n",
        "print(stack)"
      ]
    },
    {
      "cell_type": "markdown",
      "metadata": {
        "id": "8IBYDynXRzmg"
      },
      "source": [
        "<b> Exercise 5:</b> Implement queue using list\n",
        "<p><b>Hints:</b> It is also possible to use a list as a queue, where the first element added is the first element retrieved (“first-in, first-out”)</p>"
      ]
    },
    {
      "cell_type": "code",
      "execution_count": null,
      "metadata": {
        "id": "g5EYaRjnRzmg",
        "colab": {
          "base_uri": "https://localhost:8080/"
        },
        "outputId": "6f0f3c7c-2c60-47c2-f6be-2a8b47778717"
      },
      "outputs": [
        {
          "output_type": "stream",
          "name": "stdout",
          "text": [
            "['Melissa', 'Anderson', 'Cloudia', 'Solomon']\n",
            "['Anderson', 'Cloudia', 'Solomon']\n",
            "['Anderson', 'Cloudia', 'Solomon', 'Hensen']\n"
          ]
        }
      ],
      "source": [
        "# Queue uses FIFO\n",
        "queue = []\n",
        "\n",
        "queue.append(\"Melissa\") #inserting at the end\n",
        "queue.append(\"Anderson\")\n",
        "queue.append(\"Cloudia\")\n",
        "queue.append(\"Solomon\")\n",
        "\n",
        "print(queue)\n",
        "\n",
        "# a queue removes items from the front\n",
        "queue.pop(0)\n",
        "\n",
        "print(queue)\n",
        "\n",
        "queue.append(\"Hensen\")\n",
        "print(queue)"
      ]
    },
    {
      "cell_type": "markdown",
      "metadata": {
        "id": "TQ0Azt_2Rzmg"
      },
      "source": [
        "# Dictionary\n",
        "<p style=\"text-align: justify\">Dictionaries are sometimes found in other languages as “associative memories” or “associative arrays”. Unlike sequences, which are indexed by a range of numbers, dictionaries are indexed by keys, which can be any immutable type; strings and numbers can always be keys.</p>\n",
        "\n",
        "<p style=\"text-align: justify\">It is best to think of a dictionary as a set of key: value pairs, with the requirement that the keys are unique (within one dictionary). A pair of braces creates an empty dictionary: {}. Placing a comma-separated list of key:value pairs within the braces adds initial key:value pairs to the dictionary; this is also the way dictionaries are written on output.</p>"
      ]
    },
    {
      "cell_type": "code",
      "execution_count": null,
      "metadata": {
        "id": "re9nWSYYRzmg",
        "colab": {
          "base_uri": "https://localhost:8080/"
        },
        "outputId": "e08d98ee-efbc-4842-9c21-cfb95402660a"
      },
      "outputs": [
        {
          "output_type": "stream",
          "name": "stdout",
          "text": [
            "{'itemNo': 1, 'itemName': 'Bluray DVD'}\n"
          ]
        }
      ],
      "source": [
        "testDic = {'itemNo': 1, 'itemName': 'Bluray DVD'}\n",
        "\n",
        "print(testDic)"
      ]
    },
    {
      "cell_type": "code",
      "source": [
        "list(testDic.keys())[1]"
      ],
      "metadata": {
        "colab": {
          "base_uri": "https://localhost:8080/",
          "height": 35
        },
        "id": "If-U0e50Ihle",
        "outputId": "6c2287dc-1941-4ae8-dbab-24d788302435"
      },
      "execution_count": null,
      "outputs": [
        {
          "output_type": "execute_result",
          "data": {
            "text/plain": [
              "'itemName'"
            ],
            "application/vnd.google.colaboratory.intrinsic+json": {
              "type": "string"
            }
          },
          "metadata": {},
          "execution_count": 209
        }
      ]
    },
    {
      "cell_type": "code",
      "source": [
        "list(testDic.keys())[0]"
      ],
      "metadata": {
        "colab": {
          "base_uri": "https://localhost:8080/",
          "height": 35
        },
        "id": "eiFl8VNP2IgR",
        "outputId": "3bea4adb-9b64-4d5b-a343-dfd962b59067"
      },
      "execution_count": null,
      "outputs": [
        {
          "output_type": "execute_result",
          "data": {
            "text/plain": [
              "'itemNo'"
            ],
            "application/vnd.google.colaboratory.intrinsic+json": {
              "type": "string"
            }
          },
          "metadata": {},
          "execution_count": 159
        }
      ]
    },
    {
      "cell_type": "code",
      "source": [
        "list(testDic.values())[1]"
      ],
      "metadata": {
        "colab": {
          "base_uri": "https://localhost:8080/",
          "height": 35
        },
        "id": "N2Zggvrx2Mts",
        "outputId": "562c94f4-57f1-4bdd-f7d3-21426954c039"
      },
      "execution_count": null,
      "outputs": [
        {
          "output_type": "execute_result",
          "data": {
            "text/plain": [
              "'Bluray DVD'"
            ],
            "application/vnd.google.colaboratory.intrinsic+json": {
              "type": "string"
            }
          },
          "metadata": {},
          "execution_count": 160
        }
      ]
    },
    {
      "cell_type": "code",
      "execution_count": null,
      "metadata": {
        "id": "2GNIumzqRzmg",
        "outputId": "6a334320-71a7-46d1-aed1-3ecc693a94de",
        "colab": {
          "base_uri": "https://localhost:8080/"
        }
      },
      "outputs": [
        {
          "output_type": "execute_result",
          "data": {
            "text/plain": [
              "{'itemNo': 1, 'itemName': 'Bluray DVD', 'itemPrice': 4000.0}"
            ]
          },
          "metadata": {},
          "execution_count": 161
        }
      ],
      "source": [
        "testDic['itemPrice'] = 4000.00\n",
        "testDic"
      ]
    },
    {
      "cell_type": "code",
      "execution_count": null,
      "metadata": {
        "id": "KzHZZf9ERzmg",
        "colab": {
          "base_uri": "https://localhost:8080/"
        },
        "outputId": "86a610d2-0d3c-4b1b-a5a4-a34c035db45c"
      },
      "outputs": [
        {
          "output_type": "execute_result",
          "data": {
            "text/plain": [
              "{'Age': 23, 'Name': ['Rafin', 'Abrar', 'Rono'], 'Category': 'Sophomore'}"
            ]
          },
          "metadata": {},
          "execution_count": 164
        }
      ],
      "source": [
        "individual = {'Age':23,'Name':['Rafin','Abrar', 'Rono'], 'Category': 'Sophomore'}\n",
        "individual"
      ]
    },
    {
      "cell_type": "code",
      "execution_count": null,
      "metadata": {
        "id": "onihNMhoRzmg",
        "outputId": "528afe42-868b-4d26-f984-48272e932e8d",
        "colab": {
          "base_uri": "https://localhost:8080/"
        }
      },
      "outputs": [
        {
          "output_type": "stream",
          "name": "stdout",
          "text": [
            "['Rafin', 'Abrar', 'Rono']\n",
            "Abrar\n"
          ]
        }
      ],
      "source": [
        "print(individual['Name'])\n",
        "print(individual['Name'][1])"
      ]
    },
    {
      "cell_type": "code",
      "execution_count": null,
      "metadata": {
        "id": "SII5SLdbRzmg",
        "outputId": "16674155-7e44-4218-c411-13c783f06636",
        "colab": {
          "base_uri": "https://localhost:8080/"
        }
      },
      "outputs": [
        {
          "output_type": "execute_result",
          "data": {
            "text/plain": [
              "3"
            ]
          },
          "metadata": {},
          "execution_count": 168
        }
      ],
      "source": [
        "len(individual)"
      ]
    },
    {
      "cell_type": "code",
      "execution_count": null,
      "metadata": {
        "id": "x2Zc_drHRzmh",
        "outputId": "0daf2e72-88cb-49f0-8ce7-2a600e5251d1",
        "colab": {
          "base_uri": "https://localhost:8080/"
        }
      },
      "outputs": [
        {
          "output_type": "execute_result",
          "data": {
            "text/plain": [
              "dict_keys(['Age', 'Name', 'Category'])"
            ]
          },
          "metadata": {},
          "execution_count": 169
        }
      ],
      "source": [
        "individual.keys()"
      ]
    },
    {
      "cell_type": "code",
      "execution_count": null,
      "metadata": {
        "id": "l_yR04F0Rzmh",
        "outputId": "ff2ff7ad-5487-4332-d085-bc78253cb665",
        "colab": {
          "base_uri": "https://localhost:8080/"
        }
      },
      "outputs": [
        {
          "output_type": "execute_result",
          "data": {
            "text/plain": [
              "True"
            ]
          },
          "metadata": {},
          "execution_count": 170
        }
      ],
      "source": [
        "#person.has_key('Name')\n",
        "'Name' in individual.keys()"
      ]
    },
    {
      "cell_type": "code",
      "source": [
        "'Rating' in individual.keys()"
      ],
      "metadata": {
        "colab": {
          "base_uri": "https://localhost:8080/"
        },
        "id": "m5zAc2zr27CB",
        "outputId": "6e1a0520-3e8b-48ba-9ea3-12ae3bc1e881"
      },
      "execution_count": null,
      "outputs": [
        {
          "output_type": "execute_result",
          "data": {
            "text/plain": [
              "False"
            ]
          },
          "metadata": {},
          "execution_count": 171
        }
      ]
    },
    {
      "cell_type": "code",
      "execution_count": null,
      "metadata": {
        "id": "Enge3DbtRzmh",
        "outputId": "f723fc8e-3f1c-46ea-97a1-3bf581017dbe",
        "colab": {
          "base_uri": "https://localhost:8080/"
        }
      },
      "outputs": [
        {
          "output_type": "execute_result",
          "data": {
            "text/plain": [
              "True"
            ]
          },
          "metadata": {},
          "execution_count": 172
        }
      ],
      "source": [
        "'Abrar' in individual['Name']"
      ]
    },
    {
      "cell_type": "code",
      "execution_count": null,
      "metadata": {
        "id": "Lp68r5LJRzmh",
        "colab": {
          "base_uri": "https://localhost:8080/"
        },
        "outputId": "ed82acc6-063a-4345-9491-4c017289bb17"
      },
      "outputs": [
        {
          "output_type": "execute_result",
          "data": {
            "text/plain": [
              "['__class__',\n",
              " '__class_getitem__',\n",
              " '__contains__',\n",
              " '__delattr__',\n",
              " '__delitem__',\n",
              " '__dir__',\n",
              " '__doc__',\n",
              " '__eq__',\n",
              " '__format__',\n",
              " '__ge__',\n",
              " '__getattribute__',\n",
              " '__getitem__',\n",
              " '__gt__',\n",
              " '__hash__',\n",
              " '__init__',\n",
              " '__init_subclass__',\n",
              " '__ior__',\n",
              " '__iter__',\n",
              " '__le__',\n",
              " '__len__',\n",
              " '__lt__',\n",
              " '__ne__',\n",
              " '__new__',\n",
              " '__or__',\n",
              " '__reduce__',\n",
              " '__reduce_ex__',\n",
              " '__repr__',\n",
              " '__reversed__',\n",
              " '__ror__',\n",
              " '__setattr__',\n",
              " '__setitem__',\n",
              " '__sizeof__',\n",
              " '__str__',\n",
              " '__subclasshook__',\n",
              " 'clear',\n",
              " 'copy',\n",
              " 'fromkeys',\n",
              " 'get',\n",
              " 'items',\n",
              " 'keys',\n",
              " 'pop',\n",
              " 'popitem',\n",
              " 'setdefault',\n",
              " 'update',\n",
              " 'values']"
            ]
          },
          "metadata": {},
          "execution_count": 173
        }
      ],
      "source": [
        "dir(individual)"
      ]
    },
    {
      "cell_type": "markdown",
      "metadata": {
        "id": "6-O7lD6gRzmh"
      },
      "source": [
        "<b> Exercise 6:</b> Define a dictionary to store the details of persons. Also, print some data from the dictionary.\n",
        " <p><b>Hint:</b> You may require nesting dictionary, lists, string inside the dictionary.</p>"
      ]
    },
    {
      "cell_type": "code",
      "execution_count": null,
      "metadata": {
        "id": "UNx0mYDNRzmh",
        "colab": {
          "base_uri": "https://localhost:8080/"
        },
        "outputId": "562e09bb-3422-4e49-a33a-b86669b726eb"
      },
      "outputs": [
        {
          "output_type": "stream",
          "name": "stdout",
          "text": [
            "1998\n",
            "2001\n",
            "Mashrur\n",
            "2018\n",
            "<class 'dict'>\n"
          ]
        }
      ],
      "source": [
        "person = {'Age':26,'Name':['Rafin','Abrar', 'Rono'], 'Category': 'Sophomore', 'Birth Year': 1998}\n",
        "\n",
        "academicDetails = {'SSC year': 2018, 'HSC Year': 2020}\n",
        "\n",
        "person1 = {'Age':23,'Name':['Tauhid','Mashrur',], 'Category': 'Sophomore', 'Birth Year': 2001, 'Details': academicDetails}\n",
        "\n",
        "print(person['Birth Year'])\n",
        "print(person1['Birth Year'])\n",
        "print(person1['Name'][1])\n",
        "print(person1['Details']['SSC year']) #accessing a nested dictionary value\n",
        "\n",
        "print(type(person))"
      ]
    },
    {
      "cell_type": "markdown",
      "metadata": {
        "id": "4S_g-H7rRzmh"
      },
      "source": [
        "# Tuples and Sets\n",
        "<b>Exercise 7: (Optional)</b> Use the content from [here](https://docs.python.org/3/tutorial/datastructures.html#tuples-and-sequences) to follow some examples on tuple and set."
      ]
    },
    {
      "cell_type": "code",
      "execution_count": null,
      "metadata": {
        "id": "LpzjdV5RRzmh",
        "colab": {
          "base_uri": "https://localhost:8080/"
        },
        "outputId": "125aab79-f483-4bba-8659-f23c8e937ab8"
      },
      "outputs": [
        {
          "output_type": "stream",
          "name": "stdout",
          "text": [
            "1\n",
            "2\n",
            "(1, 2)\n",
            "2\n",
            "a touple\n",
            "<class 'tuple'>\n"
          ]
        }
      ],
      "source": [
        "t = (1, 2)\n",
        "\n",
        "print(t[0])\n",
        "print(t[1])\n",
        "\n",
        "u = (\"testing\", 'a touple')\n",
        "\n",
        "v = t, u\n",
        "\n",
        "print(v[0])\n",
        "print(v[0][1])\n",
        "print(v[1][1])\n",
        "\n",
        "print(type(v))"
      ]
    }
  ],
  "metadata": {
    "kernelspec": {
      "display_name": "Python 3",
      "language": "python",
      "name": "python3"
    },
    "language_info": {
      "codemirror_mode": {
        "name": "ipython",
        "version": 3
      },
      "file_extension": ".py",
      "mimetype": "text/x-python",
      "name": "python",
      "nbconvert_exporter": "python",
      "pygments_lexer": "ipython3",
      "version": "3.8.5"
    },
    "colab": {
      "provenance": []
    }
  },
  "nbformat": 4,
  "nbformat_minor": 0
}