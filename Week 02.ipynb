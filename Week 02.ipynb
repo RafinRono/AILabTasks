{
  "cells": [
    {
      "cell_type": "markdown",
      "metadata": {
        "id": "sVSQpyqT9OBH"
      },
      "source": [
        "# User Input"
      ]
    },
    {
      "cell_type": "code",
      "execution_count": null,
      "metadata": {
        "colab": {
          "base_uri": "https://localhost:8080/"
        },
        "id": "JPTt3qbo9OBI",
        "outputId": "59843c44-9dd4-4c1c-d729-b8991628af06"
      },
      "outputs": [
        {
          "output_type": "stream",
          "name": "stdout",
          "text": [
            "2132\n"
          ]
        }
      ],
      "source": [
        "test = 2132\n",
        "print(test)"
      ]
    },
    {
      "cell_type": "code",
      "source": [
        "testingInput = input()\n",
        "print(testingInput)"
      ],
      "metadata": {
        "id": "YCouIBhhorBO",
        "colab": {
          "base_uri": "https://localhost:8080/"
        },
        "outputId": "4ce76469-df92-426d-ab3c-8e23799ac53b"
      },
      "execution_count": null,
      "outputs": [
        {
          "output_type": "stream",
          "name": "stdout",
          "text": [
            "testing\n",
            "testing\n"
          ]
        }
      ]
    },
    {
      "cell_type": "code",
      "execution_count": null,
      "metadata": {
        "colab": {
          "base_uri": "https://localhost:8080/"
        },
        "id": "WgnNFESa9OBL",
        "outputId": "6158f8b2-c625-44cf-b7a7-f0d3fac59909"
      },
      "outputs": [
        {
          "output_type": "stream",
          "name": "stdout",
          "text": [
            "Enter any sort of value: let us test\n",
            "The entered value is let us test\n",
            "The entered value is of type<class 'str'>\n"
          ]
        }
      ],
      "source": [
        "testingInputType = input('Enter any sort of value: ') # always returns string\n",
        "print('The entered value is '+ testingInputType)\n",
        "print('The entered value is of type'+ str(type(testingInputType)))"
      ]
    },
    {
      "cell_type": "code",
      "execution_count": null,
      "metadata": {
        "id": "qGfffqzZ9OBM",
        "colab": {
          "base_uri": "https://localhost:8080/"
        },
        "outputId": "0bdde31d-e065-4bcc-d0eb-f478e76b3106"
      },
      "outputs": [
        {
          "output_type": "stream",
          "name": "stdout",
          "text": [
            "Enter any ineteger number (Floating points will cause errors): 1\n",
            "The sum of enetered number and 101 is 102\n",
            "<class 'int'>\n"
          ]
        }
      ],
      "source": [
        "testingIntegerInput = int(input('Enter any ineteger number (Floating points will cause errors): ')) # returns string but converted to int\n",
        "print('The sum of enetered number and 101 is', testingIntegerInput+101)\n",
        "print(type(testingIntegerInput))"
      ]
    },
    {
      "cell_type": "code",
      "source": [
        "testingFloatInput = float(input('Enter any number (Floating points will work too): ')) # returns string but converted to ifloat\n",
        "print('The sum of enetered number and 101.574 is', testingFloatInput+101)\n",
        "print(type(testingFloatInput))"
      ],
      "metadata": {
        "colab": {
          "base_uri": "https://localhost:8080/"
        },
        "id": "JXtN24qljoIW",
        "outputId": "59879726-3055-4847-dae1-0ff87ccfff88"
      },
      "execution_count": null,
      "outputs": [
        {
          "output_type": "stream",
          "name": "stdout",
          "text": [
            "Enter any number (Floating points will work too): 43.33\n",
            "The sum of enetered number and 101.574 is 144.32999999999998\n",
            "<class 'float'>\n"
          ]
        }
      ]
    },
    {
      "cell_type": "code",
      "source": [
        "while True:\n",
        "  inputAge = input('Enter your Birth Year (in numerics, not spelled):')\n",
        "\n",
        "  if inputAge.isdigit():\n",
        "    age = str(2024-int(inputAge))\n",
        "    print('You are now ' + age + ' years old')\n",
        "    print(age)\n",
        "    break\n",
        "  print('ENTER A VALID NUMERIC YEAR.')"
      ],
      "metadata": {
        "id": "LhsfvXa7lAk8",
        "colab": {
          "base_uri": "https://localhost:8080/"
        },
        "outputId": "a54a0606-0b53-4954-f180-ef13c189d270"
      },
      "execution_count": null,
      "outputs": [
        {
          "output_type": "stream",
          "name": "stdout",
          "text": [
            "Enter your Birth Year (in numerics, not spelled):r\n",
            "ENTER A VALID NUMERIC YEAR.\n",
            "Enter your Birth Year (in numerics, not spelled):a\n",
            "ENTER A VALID NUMERIC YEAR.\n",
            "Enter your Birth Year (in numerics, not spelled):2001\n",
            "You are now 23 years old\n",
            "23\n"
          ]
        }
      ]
    },
    {
      "cell_type": "markdown",
      "metadata": {
        "id": "yd5uai6a9OBO"
      },
      "source": [
        "# if statement\n",
        "There can be zero or more elif parts, and the else part is optional. The keyword ‘elif’ is short for ‘else if’"
      ]
    },
    {
      "cell_type": "code",
      "execution_count": null,
      "metadata": {
        "colab": {
          "base_uri": "https://localhost:8080/"
        },
        "id": "bkNWtGEA9OBP",
        "outputId": "5c2b19f0-12b7-414e-a03b-20a36335f3b6"
      },
      "outputs": [
        {
          "output_type": "stream",
          "name": "stdout",
          "text": [
            "less than 10, okay\n",
            "testing fine\n",
            "ending line\n"
          ]
        }
      ],
      "source": [
        "# indent\n",
        "i = 1\n",
        "if i < 10: # () not required, {} not required\n",
        "  print('less than 10, okay')\n",
        "  print('testing fine')\n",
        "else:\n",
        "  print('more than 10')\n",
        "print('ending line') # will be executed in each run"
      ]
    },
    {
      "cell_type": "code",
      "execution_count": null,
      "metadata": {
        "colab": {
          "base_uri": "https://localhost:8080/"
        },
        "id": "4-2lHhfa9OBQ",
        "outputId": "a781805b-95fb-49f7-af3a-6a6bc9db5e5a"
      },
      "outputs": [
        {
          "output_type": "stream",
          "name": "stdout",
          "text": [
            "Enter an integer number: 6\n",
            "Your entered number is 6 which is more than 1\n",
            "Entered value is not a numeric value\n"
          ]
        }
      ],
      "source": [
        "inputIntegerString = input(\"Enter an integer number: \")\n",
        "\n",
        "if inputIntegerString.isdigit():\n",
        "  inputInteger = int(inputIntegerString)\n",
        "  if inputInteger < 0:\n",
        "      inputInteger = 0\n",
        "      print('Negative entered value, changed to zero')\n",
        "  elif inputInteger == 0:\n",
        "      print('You entered zero')\n",
        "  elif inputInteger == 1:\n",
        "      print('you entered 1')\n",
        "  else:\n",
        "    print('Your entered number is ' + str(inputInteger) + ' which is more than 1')\n",
        "\n",
        "print('Entered value is not a numeric value')"
      ]
    },
    {
      "cell_type": "markdown",
      "metadata": {
        "id": "CeTgipag9OBR"
      },
      "source": [
        "<b>Exercise 1:</b> Input a course mark (0-100) from user and use the <b>if</b> statement to print corresponding grade."
      ]
    },
    {
      "cell_type": "code",
      "execution_count": null,
      "metadata": {
        "id": "75nu_spY9OBS",
        "colab": {
          "base_uri": "https://localhost:8080/"
        },
        "outputId": "c13970fe-8b66-4d2f-9fb5-f4739b4b9533"
      },
      "outputs": [
        {
          "output_type": "stream",
          "name": "stdout",
          "text": [
            "95\n",
            "Obtained grade: A+\n"
          ]
        }
      ],
      "source": [
        "inputMarks = input()\n",
        "\n",
        "if inputMarks.isdigit():\n",
        "  marks = int(inputMarks)\n",
        "\n",
        "  if(marks < 100 and marks >0):\n",
        "\n",
        "    if marks < 50:\n",
        "      print('Obtained grade: F')\n",
        "    elif marks < 60:\n",
        "      print('Obtained grade: D')\n",
        "    elif marks < 65:\n",
        "      print('Obtained grade: D+')\n",
        "    elif marks < 70:\n",
        "      print('Obtained grade: C')\n",
        "    elif marks < 75:\n",
        "      print('Obtained grade: C+')\n",
        "    elif marks < 80:\n",
        "      print('Obtained grade: B')\n",
        "    elif marks < 85:\n",
        "      print('Obtained grade: B+')\n",
        "    elif marks < 90:\n",
        "      print('Obtained grade: A')\n",
        "    else:\n",
        "      print('Obtained grade: A+')\n",
        "\n",
        "  else:\n",
        "    print('Entered an invaid number')\n",
        "\n",
        "else:\n",
        "  print('Entered a non numeric value')"
      ]
    },
    {
      "cell_type": "markdown",
      "metadata": {
        "id": "BLPDtgWr9OBT"
      },
      "source": [
        "# for statement\n",
        "<p style=\"text-align: justify\">The for statement in Python differs a bit from what you may be used to in C or C++. Rather than always giving the user the ability to define both the iteration step and halting condition, Python’s for statement iterates over the items of any sequence (a list or a string), in the order that they appear in the sequence.</p>"
      ]
    },
    {
      "cell_type": "code",
      "execution_count": null,
      "metadata": {
        "colab": {
          "base_uri": "https://localhost:8080/"
        },
        "id": "k6eiUKVF9OBU",
        "outputId": "785440c9-1a69-45d0-b842-fa2ba3877da0"
      },
      "outputs": [
        {
          "output_type": "stream",
          "name": "stdout",
          "text": [
            "the random division names from Night city:\n",
            "Westbrook\n",
            "Dogtown\n",
            "Heywood\n",
            "Pacifica\n"
          ]
        }
      ],
      "source": [
        "# Measure some strings:\n",
        "randomWords = ['Westbrook', 'Dogtown', 'Heywood','Pacifica']\n",
        "\n",
        "print('the random division names from Night city:')\n",
        "\n",
        "for words in randomWords:\n",
        "    print(words)"
      ]
    },
    {
      "cell_type": "code",
      "source": [
        "print('the division names are:')\n",
        "\n",
        "for i in range(len(randomWords)):\n",
        "    print(randomWords[i])"
      ],
      "metadata": {
        "colab": {
          "base_uri": "https://localhost:8080/"
        },
        "id": "NdM3WOnovXx2",
        "outputId": "f6c952d4-bac3-4b7a-80dd-2ade704a902c"
      },
      "execution_count": null,
      "outputs": [
        {
          "output_type": "stream",
          "name": "stdout",
          "text": [
            "the division names are:\n",
            "Westbrook\n",
            "Dogtown\n",
            "Heywood\n",
            "Pacifica\n"
          ]
        }
      ]
    },
    {
      "cell_type": "code",
      "source": [
        "randomList = list(range(-1,25))\n",
        "print(randomList)"
      ],
      "metadata": {
        "colab": {
          "base_uri": "https://localhost:8080/"
        },
        "id": "22etO_4J87wJ",
        "outputId": "bf21873c-f1c5-402c-e36a-dcb61c763dc1"
      },
      "execution_count": null,
      "outputs": [
        {
          "output_type": "stream",
          "name": "stdout",
          "text": [
            "[-1, 0, 1, 2, 3, 4, 5, 6, 7, 8, 9, 10, 11, 12, 13, 14, 15, 16, 17, 18, 19, 20, 21, 22, 23, 24]\n"
          ]
        }
      ]
    },
    {
      "cell_type": "code",
      "execution_count": null,
      "metadata": {
        "colab": {
          "base_uri": "https://localhost:8080/"
        },
        "id": "gxRxRU9B9OBW",
        "outputId": "d2ff35da-b1bb-476d-b5ac-ec9b54f5e2f1"
      },
      "outputs": [
        {
          "output_type": "stream",
          "name": "stdout",
          "text": [
            "1041\n",
            "1042\n",
            "1043\n",
            "1044\n",
            "1045\n",
            "1046\n",
            "1047\n",
            "1048\n",
            "1049\n",
            "1050\n",
            "1051\n",
            "1052\n",
            "1053\n",
            "1054\n",
            "1055\n",
            "1056\n",
            "1057\n",
            "1058\n",
            "1059\n",
            "1060\n",
            "1061\n",
            "1062\n",
            "1063\n",
            "1064\n",
            "1065\n",
            "1066\n"
          ]
        }
      ],
      "source": [
        "for numbers in randomList:\n",
        "    print(numbers+1042)"
      ]
    },
    {
      "cell_type": "code",
      "source": [
        "shortList = list(range(32))\n",
        "print(shortList)"
      ],
      "metadata": {
        "colab": {
          "base_uri": "https://localhost:8080/"
        },
        "id": "xM7Q3lOs1Zq1",
        "outputId": "85016598-c814-4beb-ee16-6f4d7c791341"
      },
      "execution_count": null,
      "outputs": [
        {
          "output_type": "stream",
          "name": "stdout",
          "text": [
            "[0, 1, 2, 3, 4, 5, 6, 7, 8, 9, 10, 11, 12, 13, 14, 15, 16, 17, 18, 19, 20, 21, 22, 23, 24, 25, 26, 27, 28, 29, 30, 31]\n"
          ]
        }
      ]
    },
    {
      "cell_type": "markdown",
      "metadata": {
        "id": "OnIIzz_29OBX"
      },
      "source": [
        "### The range() Function\n",
        "If you do need to iterate over a sequence of numbers, the built-in function range() comes in handy. It generates arithmetic progressions:"
      ]
    },
    {
      "cell_type": "code",
      "execution_count": null,
      "metadata": {
        "colab": {
          "base_uri": "https://localhost:8080/"
        },
        "id": "eIvd_Nhy9OBY",
        "outputId": "a117ef93-165d-46c4-9a73-b2bff2c229dd"
      },
      "outputs": [
        {
          "output_type": "stream",
          "name": "stdout",
          "text": [
            "10\n",
            "13\n",
            "16\n",
            "19\n",
            "22\n",
            "25\n",
            "28\n"
          ]
        }
      ],
      "source": [
        "# repeated for 0 to 4\n",
        "# for(i=0;i<5;i++)\n",
        "for j in range(10,30,3):\n",
        "    print(j)"
      ]
    },
    {
      "cell_type": "markdown",
      "source": [],
      "metadata": {
        "id": "AchXCJANSxdv"
      }
    },
    {
      "cell_type": "markdown",
      "metadata": {
        "id": "Tdu8trNj9OBZ"
      },
      "source": [
        "<p style=\"text-align: justify\">The given end point is never part of the generated sequence; range(10) generates 10 values, the legal indices for items of a sequence of length 10. It is possible to let the range start at another number, or to specify a different increment (even negative; sometimes this is called the ‘step’):</p>"
      ]
    },
    {
      "cell_type": "code",
      "execution_count": null,
      "metadata": {
        "colab": {
          "base_uri": "https://localhost:8080/"
        },
        "id": "0l562ow69OBZ",
        "outputId": "8ddb4695-482c-4371-8ab5-c508e253715e"
      },
      "outputs": [
        {
          "output_type": "execute_result",
          "data": {
            "text/plain": [
              "[50, 51, 52, 53, 54]"
            ]
          },
          "metadata": {},
          "execution_count": 66
        }
      ],
      "source": [
        "list(range(50, 55))"
      ]
    },
    {
      "cell_type": "code",
      "execution_count": null,
      "metadata": {
        "colab": {
          "base_uri": "https://localhost:8080/"
        },
        "id": "7cGVhf0o9OBa",
        "outputId": "f13b56f7-b2ea-4e8e-d839-8bdde32acc74"
      },
      "outputs": [
        {
          "output_type": "execute_result",
          "data": {
            "text/plain": [
              "[1, 8, 15, 22, 29, 36, 43, 50, 57, 64, 71, 78, 85, 92, 99]"
            ]
          },
          "metadata": {},
          "execution_count": 68
        }
      ],
      "source": [
        "list(range(1, 100, 7))"
      ]
    },
    {
      "cell_type": "code",
      "source": [
        "list(range(100, -10, -7))"
      ],
      "metadata": {
        "colab": {
          "base_uri": "https://localhost:8080/"
        },
        "id": "iJrB_nyirUin",
        "outputId": "87a2d9fd-a7fb-4554-f3af-0b4fcdeab0dc"
      },
      "execution_count": null,
      "outputs": [
        {
          "output_type": "execute_result",
          "data": {
            "text/plain": [
              "[100, 93, 86, 79, 72, 65, 58, 51, 44, 37, 30, 23, 16, 9, 2, -5]"
            ]
          },
          "metadata": {},
          "execution_count": 71
        }
      ]
    },
    {
      "cell_type": "code",
      "execution_count": null,
      "metadata": {
        "colab": {
          "base_uri": "https://localhost:8080/"
        },
        "id": "NySucrFE9OBa",
        "outputId": "66bbf644-16e7-4310-b5a2-5977c2dbd37c"
      },
      "outputs": [
        {
          "output_type": "execute_result",
          "data": {
            "text/plain": [
              "[-75, -98, -121, -144, -167, -190, -213, -236]"
            ]
          },
          "metadata": {},
          "execution_count": 72
        }
      ],
      "source": [
        "list(range(-75, -243, -23))"
      ]
    },
    {
      "cell_type": "code",
      "execution_count": null,
      "metadata": {
        "colab": {
          "base_uri": "https://localhost:8080/"
        },
        "id": "XF2vWGQb9OBb",
        "outputId": "c95317bf-20b7-47ef-f478-1743ee327fce"
      },
      "outputs": [
        {
          "output_type": "stream",
          "name": "stdout",
          "text": [
            "0 15\n",
            "1 18\n",
            "2 21\n",
            "3 24\n",
            "4 27\n",
            "5 30\n",
            "6 33\n",
            "7 36\n",
            "8 39\n",
            "9 42\n",
            "10 45\n",
            "11 48\n",
            "12 51\n",
            "13 54\n",
            "14 57\n",
            "15 60\n",
            "16 63\n",
            "17 66\n",
            "18 69\n",
            "19 72\n"
          ]
        }
      ],
      "source": [
        "testNumbers = list((range(15, 75, 3)))\n",
        "for k in range(len(testNumbers)):\n",
        "    print(k, testNumbers[k])"
      ]
    },
    {
      "cell_type": "code",
      "execution_count": null,
      "metadata": {
        "colab": {
          "base_uri": "https://localhost:8080/"
        },
        "id": "O4fHt_Qt9OBb",
        "outputId": "7deed327-3162-41ec-f945-260e66b6febd"
      },
      "outputs": [
        {
          "output_type": "stream",
          "name": "stdout",
          "text": [
            "47..54..61..68..75..82..89..96..103..110..117..124..131..138..145..152..159..166..173..180..187..194..201..208.."
          ]
        }
      ],
      "source": [
        "for j in range(47,213,7):\n",
        "    print(j,end='..')"
      ]
    },
    {
      "cell_type": "markdown",
      "metadata": {
        "id": "_0M3Y1F09OBc"
      },
      "source": [
        "<b>Exercise 2:</b> Print all the even numbers between 0 to 100 using <b>for loop</b> and <b>range</b>."
      ]
    },
    {
      "cell_type": "code",
      "execution_count": null,
      "metadata": {
        "id": "nzKgmsMy9OBc",
        "colab": {
          "base_uri": "https://localhost:8080/"
        },
        "outputId": "d417af9d-8b9e-4af3-f422-7036eeba59f8"
      },
      "outputs": [
        {
          "output_type": "stream",
          "name": "stdout",
          "text": [
            "Even numbers generated using for loop:\n",
            "[0, 2, 4, 6, 8, 10, 12, 14, 16, 18, 20, 22, 24, 26, 28, 30, 32, 34, 36, 38, 40, 42, 44, 46, 48, 50, 52, 54, 56, 58, 60, 62, 64, 66, 68, 70, 72, 74, 76, 78, 80, 82, 84, 86, 88, 90, 92, 94, 96, 98, 100]\n",
            "\n",
            "Even numbers generated using range function:\n",
            "[0, 2, 4, 6, 8, 10, 12, 14, 16, 18, 20, 22, 24, 26, 28, 30, 32, 34, 36, 38, 40, 42, 44, 46, 48, 50, 52, 54, 56, 58, 60, 62, 64, 66, 68, 70, 72, 74, 76, 78, 80, 82, 84, 86, 88, 90, 92, 94, 96, 98, 100]\n"
          ]
        }
      ],
      "source": [
        "evenNumbersFor = []\n",
        "\n",
        "for i in range(101):\n",
        "  if i%2 == 0:\n",
        "    evenNumbersFor.append(i)\n",
        "\n",
        "print('Even numbers generated using for loop:' )\n",
        "print(evenNumbersFor)\n",
        "\n",
        "evenNumbersRange = list((range(0,101,2)))\n",
        "\n",
        "print('\\nEven numbers generated using range function:' )\n",
        "print(evenNumbersRange)"
      ]
    },
    {
      "cell_type": "code",
      "execution_count": null,
      "metadata": {
        "colab": {
          "base_uri": "https://localhost:8080/"
        },
        "id": "CxyodY3I9OBd",
        "outputId": "c750b362-bd4b-4004-9726-3fa80aa09d16"
      },
      "outputs": [
        {
          "output_type": "stream",
          "name": "stdout",
          "text": [
            "C.y.b.e.r.p.u.n.k. .2.0.7.7.\n",
            "\n",
            "C y b e r p u n k   2 0 7 7 "
          ]
        }
      ],
      "source": [
        "favouriteVideoGame = \"Cyberpunk 2077\"\n",
        "for chars in favouriteVideoGame:\n",
        "    print(chars,end='.')\n",
        "\n",
        "print('\\n')\n",
        "\n",
        "for chars in favouriteVideoGame:\n",
        "    print(chars,end=' ')"
      ]
    },
    {
      "cell_type": "markdown",
      "metadata": {
        "id": "UpWE7Kch9OBd"
      },
      "source": [
        "# Functions\n",
        "<p style=\"text-align: justify\">The keyword def introduces a function definition. It must be followed by the function name and the parenthesized list of formal parameters. The statements that form the body of the function start at the next line, and must be indented.</p>"
      ]
    },
    {
      "cell_type": "code",
      "source": [
        "def calculate(x, y):\n",
        "  print(str(x) + ' + ' + str(y) + ' = ' + str(x+y))\n",
        "  print(str(x) + ' - ' + str(y) + ' = ' + str(x-y))\n",
        "  print(str(x) + ' x ' + str(y) + ' = ' + str(x*y))\n",
        "  print(str(x) + ' / ' + str(y) + ' = ' + str(x/y))"
      ],
      "metadata": {
        "id": "YRU1pFyIKR5B"
      },
      "execution_count": null,
      "outputs": []
    },
    {
      "cell_type": "code",
      "source": [
        "calculate(321,96)"
      ],
      "metadata": {
        "colab": {
          "base_uri": "https://localhost:8080/"
        },
        "id": "x-UAfujIK6-k",
        "outputId": "7d13e467-5759-44b6-cc4b-e19bc51532cd"
      },
      "execution_count": null,
      "outputs": [
        {
          "output_type": "stream",
          "name": "stdout",
          "text": [
            "321 + 96 = 417\n",
            "321 - 96 = 225\n",
            "321 x 96 = 30816\n",
            "321 / 96 = 3.34375\n"
          ]
        }
      ]
    },
    {
      "cell_type": "code",
      "source": [
        "calculate(55,79)"
      ],
      "metadata": {
        "colab": {
          "base_uri": "https://localhost:8080/"
        },
        "id": "6JQoaH0wuuWj",
        "outputId": "979ea03d-fddd-4c2a-d71d-82d7ae5e555d"
      },
      "execution_count": null,
      "outputs": [
        {
          "output_type": "stream",
          "name": "stdout",
          "text": [
            "55 + 79 = 134\n",
            "55 - 79 = -24\n",
            "55 x 79 = 4345\n",
            "55 / 79 = 0.6962025316455697\n"
          ]
        }
      ]
    },
    {
      "cell_type": "code",
      "execution_count": null,
      "metadata": {
        "id": "zZaBBUgb9OBd"
      },
      "outputs": [],
      "source": [
        "def fibbo(num):    # write Fibonacci series up to n\n",
        "    fibboList = [0,1]\n",
        "    a, b = 0, 1\n",
        "    while True:\n",
        "        #print(a, end=' ')\n",
        "        a, b = b, a+b\n",
        "        if b < num:\n",
        "          fibboList.append(b)\n",
        "        elif num == 0:\n",
        "          return []\n",
        "        else:\n",
        "          break\n",
        "        #print()\n",
        "    return fibboList\n"
      ]
    },
    {
      "cell_type": "code",
      "execution_count": null,
      "metadata": {
        "colab": {
          "base_uri": "https://localhost:8080/"
        },
        "id": "aFCr3Pc99OBe",
        "outputId": "913ac150-de87-4dd3-f33a-9791be9c633a"
      },
      "outputs": [
        {
          "output_type": "stream",
          "name": "stdout",
          "text": [
            "[0]\n"
          ]
        }
      ],
      "source": [
        "# Now call the function we just defined:\n",
        "fibboSeries = fibbo(0)\n",
        "print(fibboSeries)"
      ]
    },
    {
      "cell_type": "code",
      "execution_count": null,
      "metadata": {
        "id": "_SueK7ww9OBe"
      },
      "outputs": [],
      "source": [
        "# define method\n",
        "def addition(num1, num2): # add numbers and return result\n",
        "    # logic\n",
        "    result = num1 + num2\n",
        "    return result"
      ]
    },
    {
      "cell_type": "code",
      "source": [
        "addition([2],[33])"
      ],
      "metadata": {
        "colab": {
          "base_uri": "https://localhost:8080/"
        },
        "id": "8fRPogdbzLSI",
        "outputId": "014d36f1-b516-471d-8f7a-a84a3956be9e"
      },
      "execution_count": null,
      "outputs": [
        {
          "output_type": "execute_result",
          "data": {
            "text/plain": [
              "[2, 33]"
            ]
          },
          "metadata": {},
          "execution_count": 113
        }
      ]
    },
    {
      "cell_type": "code",
      "source": [
        "addition(27,34) #works with lists and seperated numbers too"
      ],
      "metadata": {
        "colab": {
          "base_uri": "https://localhost:8080/"
        },
        "id": "K0DbvMdLu84x",
        "outputId": "6f39f475-3611-4b6f-d819-f73f74e23a57"
      },
      "execution_count": null,
      "outputs": [
        {
          "output_type": "execute_result",
          "data": {
            "text/plain": [
              "61"
            ]
          },
          "metadata": {},
          "execution_count": 115
        }
      ]
    },
    {
      "cell_type": "code",
      "execution_count": null,
      "metadata": {
        "colab": {
          "base_uri": "https://localhost:8080/"
        },
        "id": "WX14lRM59OBe",
        "outputId": "0242c515-d9ff-4fe2-b950-220b287cb2f0"
      },
      "outputs": [
        {
          "output_type": "stream",
          "name": "stdout",
          "text": [
            "Cyberpunk 2077\n"
          ]
        }
      ],
      "source": [
        "gameName = addition('Cyberpunk ', '2077') # use or call method\n",
        "print(gameName)"
      ]
    },
    {
      "cell_type": "code",
      "execution_count": null,
      "metadata": {
        "id": "rVpfHNMo9OBf",
        "outputId": "1e674e37-8752-478d-8cdf-722708955550",
        "colab": {
          "base_uri": "https://localhost:8080/"
        }
      },
      "outputs": [
        {
          "output_type": "execute_result",
          "data": {
            "text/plain": [
              "[121, 377, 6326, 564]"
            ]
          },
          "metadata": {},
          "execution_count": 120
        }
      ],
      "source": [
        "addition([121,377], [6326, 564])"
      ]
    },
    {
      "cell_type": "code",
      "execution_count": null,
      "metadata": {
        "id": "S1xGUH_N9OBf"
      },
      "outputs": [],
      "source": [
        "# add list values\n",
        "def addValues(num):\n",
        "    sum = 0\n",
        "    for n in num:\n",
        "        sum = sum + int(n)\n",
        "    return sum"
      ]
    },
    {
      "cell_type": "code",
      "source": [
        "okay = addition([323,43], [65,545,343,2232,54])\n",
        "addValues(okay)"
      ],
      "metadata": {
        "colab": {
          "base_uri": "https://localhost:8080/"
        },
        "id": "krtXd8PfwI1M",
        "outputId": "062af93f-81b8-4378-fd53-5dd77bc5e50e"
      },
      "execution_count": null,
      "outputs": [
        {
          "output_type": "execute_result",
          "data": {
            "text/plain": [
              "3605"
            ]
          },
          "metadata": {},
          "execution_count": 129
        }
      ]
    },
    {
      "cell_type": "code",
      "source": [
        "exampleList = addition([132, 545], [1321, 6554])\n",
        "\n",
        "print(addValues(exampleList + [1007, 455]))\n",
        "print(addValues(exampleList + [466, 54757466, 5454]))"
      ],
      "metadata": {
        "colab": {
          "base_uri": "https://localhost:8080/"
        },
        "id": "I4W3uWLsrH-4",
        "outputId": "24a01e17-00e6-4438-9589-ae98de7fbd79"
      },
      "execution_count": null,
      "outputs": [
        {
          "output_type": "stream",
          "name": "stdout",
          "text": [
            "10014\n",
            "54771938\n"
          ]
        }
      ]
    },
    {
      "cell_type": "code",
      "execution_count": null,
      "metadata": {
        "colab": {
          "base_uri": "https://localhost:8080/"
        },
        "id": "CqJJSRvK9OBf",
        "outputId": "26936414-9d28-40a9-d495-0d7c43672186"
      },
      "outputs": [
        {
          "output_type": "execute_result",
          "data": {
            "text/plain": [
              "0"
            ]
          },
          "metadata": {},
          "execution_count": 131
        }
      ],
      "source": [
        "addValues([])"
      ]
    },
    {
      "cell_type": "code",
      "execution_count": null,
      "metadata": {
        "id": "egl16dJp9OBg",
        "outputId": "1e4ea019-ef08-4e50-bd37-75442de576b4",
        "colab": {
          "base_uri": "https://localhost:8080/"
        }
      },
      "outputs": [
        {
          "output_type": "execute_result",
          "data": {
            "text/plain": [
              "1804"
            ]
          },
          "metadata": {},
          "execution_count": 134
        }
      ],
      "source": [
        "random = [55, 334,1342, 73]\n",
        "addValues(random)"
      ]
    },
    {
      "cell_type": "code",
      "source": [
        "addValues(addition([4343,594945], [43,-882676]))"
      ],
      "metadata": {
        "id": "xLgwZlvbrirQ",
        "colab": {
          "base_uri": "https://localhost:8080/"
        },
        "outputId": "e0e220dc-44a5-41e7-8e11-6aedbe3ff71e"
      },
      "execution_count": null,
      "outputs": [
        {
          "output_type": "execute_result",
          "data": {
            "text/plain": [
              "-283345"
            ]
          },
          "metadata": {},
          "execution_count": 139
        }
      ]
    },
    {
      "cell_type": "code",
      "execution_count": null,
      "metadata": {
        "colab": {
          "base_uri": "https://localhost:8080/"
        },
        "id": "HKIYxiaK9OBg",
        "outputId": "65c141e4-38dc-4cd0-86a6-7b68121c84fe"
      },
      "outputs": [
        {
          "output_type": "execute_result",
          "data": {
            "text/plain": [
              "3917"
            ]
          },
          "metadata": {},
          "execution_count": 135
        }
      ],
      "source": [
        "anotherRandom = [885, 434,152, 547, 55, 74,172, 77, 565, 74,125, 757]\n",
        "addValues(anotherRandom)"
      ]
    },
    {
      "cell_type": "code",
      "execution_count": null,
      "metadata": {
        "id": "SksLGPeh9OBh"
      },
      "outputs": [],
      "source": [
        "# method/function\n",
        "def multiTable(num, rows=10):\n",
        "    for i in range(1,rows+1):\n",
        "        print(\"{} x {} = {}\".format(num,i,num*i))"
      ]
    },
    {
      "cell_type": "code",
      "execution_count": null,
      "metadata": {
        "colab": {
          "base_uri": "https://localhost:8080/"
        },
        "id": "5X6DqTib9OBh",
        "outputId": "e67d1719-5489-4a89-f9bc-b24ddf50b99f"
      },
      "outputs": [
        {
          "output_type": "stream",
          "name": "stdout",
          "text": [
            "12 x 1 = 12\n",
            "12 x 2 = 24\n",
            "12 x 3 = 36\n",
            "12 x 4 = 48\n",
            "12 x 5 = 60\n",
            "12 x 6 = 72\n",
            "12 x 7 = 84\n",
            "12 x 8 = 96\n",
            "12 x 9 = 108\n",
            "12 x 10 = 120\n",
            "12 x 11 = 132\n",
            "12 x 12 = 144\n",
            "12 x 13 = 156\n",
            "12 x 14 = 168\n",
            "12 x 15 = 180\n"
          ]
        }
      ],
      "source": [
        "multiTable(12, 15)"
      ]
    },
    {
      "cell_type": "code",
      "execution_count": null,
      "metadata": {
        "colab": {
          "base_uri": "https://localhost:8080/"
        },
        "id": "gfyLgPF29OBh",
        "outputId": "777c1c4a-54c5-4c73-8664-fa161885b757"
      },
      "outputs": [
        {
          "output_type": "stream",
          "name": "stdout",
          "text": [
            "13 x 1 = 13\n",
            "13 x 2 = 26\n",
            "13 x 3 = 39\n",
            "13 x 4 = 52\n",
            "13 x 5 = 65\n",
            "13 x 6 = 78\n",
            "13 x 7 = 91\n",
            "13 x 8 = 104\n",
            "13 x 9 = 117\n",
            "13 x 10 = 130\n",
            "13 x 11 = 143\n",
            "13 x 12 = 156\n",
            "13 x 13 = 169\n",
            "13 x 14 = 182\n",
            "13 x 15 = 195\n",
            "13 x 16 = 208\n",
            "13 x 17 = 221\n",
            "13 x 18 = 234\n",
            "13 x 19 = 247\n",
            "13 x 20 = 260\n"
          ]
        }
      ],
      "source": [
        "multiTable(13, 20)"
      ]
    },
    {
      "cell_type": "markdown",
      "metadata": {
        "id": "ICNPFsDQ9OBh"
      },
      "source": [
        "<b>Exercise 3:</b> Define a <b>method/function</b> which will take two lists of numbers and returns a list (sum of two lists)\n",
        "<p>Example:<br>\n",
        "    Input: [3,4,5,1] and [6,7,2,8]<br>\n",
        "    output: [9,11,7,9]</p>\n"
      ]
    },
    {
      "cell_type": "code",
      "execution_count": null,
      "metadata": {
        "id": "5MPMcHnz9OBi"
      },
      "outputs": [],
      "source": [
        "def addLists(num1, num2): #only works for lists\n",
        "  small = num2\n",
        "  big = num1\n",
        "\n",
        "  if len(num1) < len(num2):\n",
        "    small = num1\n",
        "    big = num2\n",
        "\n",
        "  for i in range(len(small)):\n",
        "    big[i] += small[i]\n",
        "\n",
        "  return big"
      ]
    },
    {
      "cell_type": "code",
      "source": [
        "addLists([122,122, 1663, 4636,4343, 333], [222,222, 2663, 657, 65775, 6565, 65655])"
      ],
      "metadata": {
        "colab": {
          "base_uri": "https://localhost:8080/"
        },
        "id": "VPIQ9wGG0Mlo",
        "outputId": "b10506a5-56e0-4570-c31c-528b0c7a7711"
      },
      "execution_count": null,
      "outputs": [
        {
          "output_type": "execute_result",
          "data": {
            "text/plain": [
              "[344, 344, 4326, 5293, 70118, 6898, 65655]"
            ]
          },
          "metadata": {},
          "execution_count": 181
        }
      ]
    },
    {
      "cell_type": "code",
      "source": [
        "addLists([1,2,3,4,5,6,7,8,9], [10, 20, -30])"
      ],
      "metadata": {
        "colab": {
          "base_uri": "https://localhost:8080/"
        },
        "id": "Grq43CQj1YVz",
        "outputId": "e2e96f7c-9a28-4a8a-917b-f9d5ad81a373"
      },
      "execution_count": null,
      "outputs": [
        {
          "output_type": "execute_result",
          "data": {
            "text/plain": [
              "[11, 22, -27, 4, 5, 6, 7, 8, 9]"
            ]
          },
          "metadata": {},
          "execution_count": 182
        }
      ]
    },
    {
      "cell_type": "code",
      "source": [
        "addLists([100,200,300], [-20, -30, -60, -80, -120, -160])"
      ],
      "metadata": {
        "colab": {
          "base_uri": "https://localhost:8080/"
        },
        "id": "boSzmi4x4z6K",
        "outputId": "8c15eafc-427b-47e8-96b4-217fe3a89fdf"
      },
      "execution_count": null,
      "outputs": [
        {
          "output_type": "execute_result",
          "data": {
            "text/plain": [
              "[80, 170, 240, -80, -120, -160]"
            ]
          },
          "metadata": {},
          "execution_count": 183
        }
      ]
    },
    {
      "cell_type": "markdown",
      "metadata": {
        "id": "DSjaC86G9OBi"
      },
      "source": [
        "<b> Exercise 4:</b> Write a <b>method</b> which will take the <b>full name</b> as input and return both the first name and last name.\n",
        "<p>Example:<br>\n",
        "    Input: Arafat Rahman Sunny<br>\n",
        "    Output: First name: Arafat, Last name: Sunny</p>"
      ]
    },
    {
      "cell_type": "code",
      "execution_count": null,
      "metadata": {
        "id": "HCpI48lj9OBi"
      },
      "outputs": [],
      "source": [
        "def GetFirstLastName(name):\n",
        "  splitName = name.split(' ')\n",
        "  print(\"First name: {}, Last name: {}\".format(splitName[0], splitName[len(splitName)-1]))"
      ]
    },
    {
      "cell_type": "code",
      "source": [
        "fullName = input()\n",
        "\n",
        "GetFirstLastName(fullName)"
      ],
      "metadata": {
        "colab": {
          "base_uri": "https://localhost:8080/"
        },
        "id": "78H-coaM4KPK",
        "outputId": "8aab85a7-436c-4e75-fdfc-1cc4ac7328fc"
      },
      "execution_count": null,
      "outputs": [
        {
          "output_type": "stream",
          "name": "stdout",
          "text": [
            "Rafin Abrar Rono\n",
            "First name: Rafin, Last name: Rono\n"
          ]
        }
      ]
    },
    {
      "cell_type": "markdown",
      "metadata": {
        "id": "rQ1Zq6Dm9OBj"
      },
      "source": [
        "# Output Formatting (Optional)\n",
        "Go to the [link](https://docs.python.org/3/tutorial/inputoutput.html#formatted-string-literals) and practice the codes below."
      ]
    },
    {
      "cell_type": "code",
      "execution_count": null,
      "metadata": {
        "id": "yFN0SVO29OBj",
        "colab": {
          "base_uri": "https://localhost:8080/"
        },
        "outputId": "d57839c0-ac85-49eb-9176-47ed04d9d885"
      },
      "outputs": [
        {
          "output_type": "stream",
          "name": "stdout",
          "text": [
            "testing formatting with floats, 3.1000\n",
            "testing formatting with decimals,  102\n",
            "testing formatting with strings, 979\n",
            "Favourite guns g1='Breakthrough' g2=2077 g3='Dying Night'\n",
            "Testing 123, 456\n",
            "Testing Second, First\n",
            "Testing Sunday, Monday, and Tuesday.\n",
            "        okay        \n",
            "The value of pi is approximately 3.142.\n"
          ]
        }
      ],
      "source": [
        "print(f'testing formatting with floats, {3.1:0.4f}')\n",
        "print(f'testing formatting with decimals, {102:4d}')\n",
        "print(f'testing formatting with strings, {979!s}')\n",
        "\n",
        "g1 = 'Breakthrough'\n",
        "g2 = 2077\n",
        "g3 = 'Dying Night'\n",
        "\n",
        "print(f'Favourite guns {g1=} {g2=} {g3=}')\n",
        "\n",
        "print(\"Testing {}, {}\".format(123, 456))\n",
        "print(\"Testing {1}, {0}\".format('First', 'Second'))\n",
        "print('Testing {0}, {1}, and {three}.'.format('Sunday', 'Monday', three='Tuesday'))\n",
        "print(\"okay\".center(20))\n",
        "print('The value of pi is approximately %5.10f.' % 3.14163434343)"
      ]
    }
  ],
  "metadata": {
    "kernelspec": {
      "display_name": "Python 3",
      "language": "python",
      "name": "python3"
    },
    "language_info": {
      "codemirror_mode": {
        "name": "ipython",
        "version": 3
      },
      "file_extension": ".py",
      "mimetype": "text/x-python",
      "name": "python",
      "nbconvert_exporter": "python",
      "pygments_lexer": "ipython3",
      "version": "3.8.5"
    },
    "colab": {
      "provenance": []
    }
  },
  "nbformat": 4,
  "nbformat_minor": 0
}